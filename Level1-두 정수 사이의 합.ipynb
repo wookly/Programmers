{
 "cells": [
  {
   "cell_type": "markdown",
   "metadata": {},
   "source": [
    "두 정수 사이의 합\n",
    "==============\n",
    "#### 두 정수 a, b가 주어졌을 때 a와 b 사이에 속한 모든 정수의 합을 리턴하는 함수, solution을 완성하세요. \n",
    "예를 들어 a = 3, b = 5인 경우, 3 + 4 + 5 = 12이므로 12를 리턴합니다.\n",
    "\n",
    "> 제한 조건\n",
    "* a와 b가 같은 경우는 둘 중 아무 수나 리턴하세요.\n",
    "* a와 b는 -10,000,000 이상 10,000,000 이하인 정수입니다.\n",
    "* a와 b의 대소관계는 정해져있지 않습니다.\n",
    "\n",
    "> 입출력 예\n",
    "\n",
    "| a | b | return |\n",
    "|---|:---:|:---|\n",
    "| 3 | 5 | 12 |\n",
    "| 3 | 3 | 3 |\n",
    "| 5 | 3\t| 12 |"
   ]
  },
  {
   "cell_type": "code",
   "execution_count": 4,
   "metadata": {},
   "outputs": [],
   "source": [
    "def solution(a, b):\n",
    "    \n",
    "    answer = 0\n",
    "    if a > b: a, b = b, a\n",
    "    \n",
    "    for i in range(a, b+1):\n",
    "        answer += i\n",
    "        \n",
    "    return answer"
   ]
  },
  {
   "cell_type": "code",
   "execution_count": 5,
   "metadata": {},
   "outputs": [
    {
     "data": {
      "text/plain": [
       "12"
      ]
     },
     "execution_count": 5,
     "metadata": {},
     "output_type": "execute_result"
    }
   ],
   "source": [
    "a, b = 3, 5\n",
    "solution(a, b)"
   ]
  },
  {
   "cell_type": "code",
   "execution_count": 6,
   "metadata": {},
   "outputs": [],
   "source": [
    "def solution(a, b):\n",
    "    if a > b: a, b = b, a\n",
    "    return sum(range(a, b+1))"
   ]
  },
  {
   "cell_type": "code",
   "execution_count": 12,
   "metadata": {},
   "outputs": [
    {
     "data": {
      "text/plain": [
       "12"
      ]
     },
     "execution_count": 12,
     "metadata": {},
     "output_type": "execute_result"
    }
   ],
   "source": [
    "(abs(a-b)+1) * (a+b)//2"
   ]
  },
  {
   "cell_type": "code",
   "execution_count": null,
   "metadata": {},
   "outputs": [],
   "source": []
  },
  {
   "cell_type": "code",
   "execution_count": null,
   "metadata": {},
   "outputs": [],
   "source": []
  },
  {
   "cell_type": "code",
   "execution_count": null,
   "metadata": {},
   "outputs": [],
   "source": []
  }
 ],
 "metadata": {
  "kernelspec": {
   "display_name": "Python 3",
   "language": "python",
   "name": "python3"
  },
  "language_info": {
   "codemirror_mode": {
    "name": "ipython",
    "version": 3
   },
   "file_extension": ".py",
   "mimetype": "text/x-python",
   "name": "python",
   "nbconvert_exporter": "python",
   "pygments_lexer": "ipython3",
   "version": "3.7.1"
  }
 },
 "nbformat": 4,
 "nbformat_minor": 2
}
