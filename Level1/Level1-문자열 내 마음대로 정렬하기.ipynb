{
 "cells": [
  {
   "cell_type": "markdown",
   "metadata": {},
   "source": [
    "문자열 내 마음대로 정렬하기\n",
    "==========================\n",
    "문자열로 구성된 리스트 strings와, 정수 n이 주어졌을 때, 각 문자열의 인덱스 n번째 글자를 기준으로 오름차순 정렬하려 합니다. 예를 들어 strings가 [sun, bed, car]이고 n이 1이면 각 단어의 인덱스 1의 문자 u, e, a로 strings를 정렬합니다.\n",
    "\n",
    "> 제한 조건\n",
    "* strings는 길이 1 이상, 50이하인 배열입니다.\n",
    "* strings의 원소는 소문자 알파벳으로 이루어져 있습니다.\n",
    "* strings의 원소는 길이 1 이상, 100이하인 문자열입니다.\n",
    "* 모든 strings의 원소의 길이는 n보다 큽니다.\n",
    "* 인덱스 1의 문자가 같은 문자열이 여럿 일 경우, 사전순으로 앞선 문자열이 앞쪽에 위치합니다.\n",
    "\n",
    "> 입출력 예\n",
    "\n",
    "| strings | n |\treturn |\n",
    "|---|:---:|:---|\n",
    "| [sun, bed, car] | 1 | [car, bed, sun] |\n",
    "| [abce, abcd, cdx] | 2 | [abcd, abce, cdx]|\n",
    "\n",
    "> 입출력 예 설명\n",
    "* 입출력 예 1 : sun, bed, car의 1번째 인덱스 값은 각각 u, e, a 입니다. 이를 기준으로 strings를 정렬하면 [car, bed, sun] 입니다.\n",
    "* 입출력 예 2 : abce와 abcd, cdx의 2번째 인덱스 값은 c, c, x입니다. 따라서 정렬 후에는 cdx가 가장 뒤에 위치합니다. abce와 abcd는 사전순으로 정렬하면 abcd가 우선하므로, 답은 [abcd, abce, cdx] 입니다."
   ]
  },
  {
   "cell_type": "code",
   "execution_count": 4,
   "metadata": {},
   "outputs": [],
   "source": [
    "def solution(strings, n):\n",
    "    answer = []\n",
    "    return sorted(strings, key=lambda string: string[n:])"
   ]
  },
  {
   "cell_type": "code",
   "execution_count": 20,
   "metadata": {},
   "outputs": [
    {
     "data": {
      "text/plain": [
       "['abzaa', 'bbzaa', 'cdzab', 'abzbb', 'abzcd', 'abzfg']"
      ]
     },
     "execution_count": 20,
     "metadata": {},
     "output_type": "execute_result"
    }
   ],
   "source": [
    "#strings = ['sun', 'bed', 'car']\n",
    "#strings = ['abce', 'abcd', 'cdx']\n",
    "strings = ['abzcd', 'cdzab', 'abzfg' ,'abzaa' ,'abzbb', 'bbzaa']\n",
    "# ['abzaa', 'bbzaa', 'cdzab', 'abzbb', 'abzcd', 'abzfg']\n",
    "#  'abzaa', 'abzbb' ...\n",
    "n = 2\n",
    "\n",
    "solution(strings, n)"
   ]
  },
  {
   "cell_type": "code",
   "execution_count": 25,
   "metadata": {},
   "outputs": [
    {
     "data": {
      "text/plain": [
       "(['abzaa', 'bbzaa', 'cdzab', 'abzbb', 'abzcd', 'abzfg'],\n",
       " ['abzcd', 'cdzab', 'abzfg', 'abzaa', 'abzbb', 'bbzaa'],\n",
       " ['abzaa', 'abzbb', 'abzcd', 'abzfg', 'bbzaa', 'cdzab'])"
      ]
     },
     "execution_count": 25,
     "metadata": {},
     "output_type": "execute_result"
    }
   ],
   "source": [
    "sorted(strings, key=lambda s: s[n:]), sorted(strings, key=lambda x: x[n]), sorted(strings, key=lambda str: (str[n], str))"
   ]
  },
  {
   "cell_type": "code",
   "execution_count": 18,
   "metadata": {},
   "outputs": [
    {
     "name": "stdout",
     "output_type": "stream",
     "text": [
      "['zabzaa', 'zabzbb', 'zabzcd', 'zabzfg', 'zbbzaa', 'zcdzab']\n",
      "['abzaa', 'abzbb', 'abzcd', 'abzfg', 'bbzaa', 'cdzab']\n"
     ]
    }
   ],
   "source": [
    "strings = ['abzcd', 'cdzab', 'abzfg' ,'abzaa' ,'abzbb', 'bbzaa']\n",
    "n = 2\n",
    "\n",
    "answer = []\n",
    "for i in range(len(strings)):\n",
    "    strings[i] = strings[i][n] + strings[i]\n",
    "    \n",
    "strings.sort()\n",
    "print(strings)\n",
    "\n",
    "for j in range(len(strings)):\n",
    "    answer.append(strings[j][1:])\n",
    "    \n",
    "print(answer)"
   ]
  },
  {
   "cell_type": "code",
   "execution_count": 24,
   "metadata": {},
   "outputs": [
    {
     "data": {
      "text/plain": [
       "['abzcd', 'cdzab', 'abzfg', 'abzaa', 'abzbb', 'bbzaa']"
      ]
     },
     "execution_count": 24,
     "metadata": {},
     "output_type": "execute_result"
    }
   ],
   "source": [
    "import operator\n",
    "\n",
    "sorted(strings, key=operator.itemgetter(n))"
   ]
  },
  {
   "cell_type": "code",
   "execution_count": 40,
   "metadata": {},
   "outputs": [
    {
     "data": {
      "text/plain": [
       "['car', 'bed', 'sun']"
      ]
     },
     "execution_count": 40,
     "metadata": {},
     "output_type": "execute_result"
    }
   ],
   "source": [
    "strings = ['sun', 'bed', 'car']\n",
    "n = 1\n",
    "\n",
    "sorted(strings, key=lambda s: s[n])"
   ]
  },
  {
   "cell_type": "code",
   "execution_count": null,
   "metadata": {},
   "outputs": [],
   "source": []
  }
 ],
 "metadata": {
  "kernelspec": {
   "display_name": "Python 3",
   "language": "python",
   "name": "python3"
  },
  "language_info": {
   "codemirror_mode": {
    "name": "ipython",
    "version": 3
   },
   "file_extension": ".py",
   "mimetype": "text/x-python",
   "name": "python",
   "nbconvert_exporter": "python",
   "pygments_lexer": "ipython3",
   "version": "3.7.1"
  }
 },
 "nbformat": 4,
 "nbformat_minor": 2
}
