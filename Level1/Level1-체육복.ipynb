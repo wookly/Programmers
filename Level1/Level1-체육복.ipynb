{
 "cells": [
  {
   "cell_type": "markdown",
   "metadata": {},
   "source": [
    "체육복\n",
    "=====\n",
    "#### 점심시간에 도둑이 들어, 일부 학생이 체육복을 도난당했습니다. 다행히 여벌 체육복이 있는 학생이 이들에게 체육복을 빌려주려 합니다. 학생들의 번호는 체격 순으로 매겨져 있어, 바로 앞번호의 학생이나 바로 뒷번호의 학생에게만 체육복을 빌려줄 수 있습니다. 예를 들어, 4번 학생은 3번 학생이나 5번 학생에게만 체육복을 빌려줄 수 있습니다. 체육복이 없으면 수업을 들을 수 없기 때문에 체육복을 적절히 빌려 최대한 많은 학생이 체육수업을 들어야 합니다.\n",
    "\n",
    "#### 전체 학생의 수 n, 체육복을 도난당한 학생들의 번호가 담긴 배열 lost, 여벌의 체육복을 가져온 학생들의 번호가 담긴 배열 reserve가 매개변수로 주어질 때, 체육수업을 들을 수 있는 학생의 최댓값을 return 하도록 solution 함수를 작성해주세요.\n",
    "\n",
    "> 제한사항\n",
    "* 전체 학생의 수는 2명 이상 30명 이하입니다.\n",
    "* 체육복을 도난당한 학생의 수는 1명 이상 n명 이하이고 중복되는 번호는 없습니다.\n",
    "* 여벌의 체육복을 가져온 학생의 수는 1명 이상 n명 이하이고 중복되는 번호는 없습니다.\n",
    "* 여벌 체육복이 있는 학생만 다른 학생에게 체육복을 빌려줄 수 있습니다.\n",
    "* 여벌 체육복을 가져온 학생이 체육복을 도난당했을 수 있습니다. 이때 이 학생은 체육복을 하나만 도난당했다고 가정하며, 남은 체육복이 하나이기에 다른 학생에게는 체육복을 빌려줄 수 없습니다.\n",
    "\n",
    "> 입출력 예\n",
    "\n",
    "| n | lost | reserve | return |\n",
    "|---|:---:|:---:|---:|\n",
    "| 5 | [2, 4] | [1, 3, 5] | 5 |\n",
    "| 5 | [2, 4] | [3] | 4 |\n",
    "| 3 | [3] | [1] | 2 |\n",
    "\n",
    "> 입출력 예 설명\n",
    "* 예제 #1 : 1번 학생이 2번 학생에게 체육복을 빌려주고, 3번 학생이나 5번 학생이 4번 학생에게 체육복을 빌려주면 학생 5명이 체육수업을 들을 수 있습니다.\n",
    "* 예제 #2 : 3번 학생이 2번 학생이나 4번 학생에게 체육복을 빌려주면 학생 4명이 체육수업을 들을 수 있습니다."
   ]
  },
  {
   "cell_type": "code",
   "execution_count": 5,
   "metadata": {},
   "outputs": [],
   "source": [
    "def solution(n, lost, reserve):\n",
    "    \n",
    "    lost.sort()\n",
    "    reserve.sort()\n",
    "    \n",
    "    for r in reserve:\n",
    "        if r in lost:\n",
    "            lost.revome(r)\n",
    "            reserve.remove(r)\n",
    "            \n",
    "    for i in reserve:\n",
    "        if i-1 in lost:\n",
    "            lost.remove(i-1)\n",
    "        if i+1 in lost:\n",
    "            lost.remove(i+1)\n",
    "    \n",
    "    return n-len(lost)"
   ]
  },
  {
   "cell_type": "code",
   "execution_count": 26,
   "metadata": {},
   "outputs": [],
   "source": [
    "def solution(n, lost, reserve):\n",
    "    \n",
    "    intersection = set(lost) & set(reserve)\n",
    "    lost = set(lost) - intersection\n",
    "    reserve = set(reserve) - intersection\n",
    "    \n",
    "    for i in reserve:\n",
    "        if i-1 in lost:\n",
    "            lost.remove(i-1)\n",
    "        if i+1 in lost:\n",
    "            lost.remove(i+1)\n",
    "            \n",
    "    return n-len(lost)"
   ]
  },
  {
   "cell_type": "code",
   "execution_count": 27,
   "metadata": {},
   "outputs": [
    {
     "data": {
      "text/plain": [
       "5"
      ]
     },
     "execution_count": 27,
     "metadata": {},
     "output_type": "execute_result"
    }
   ],
   "source": [
    "n = 5\n",
    "lost = [2, 4]\n",
    "reserve = [1, 3, 5]\n",
    "\n",
    "solution(n, lost, reserve)"
   ]
  },
  {
   "cell_type": "code",
   "execution_count": 32,
   "metadata": {},
   "outputs": [
    {
     "name": "stdout",
     "output_type": "stream",
     "text": [
      "5\n"
     ]
    }
   ],
   "source": [
    "_lost = [l for l in lost if l not in reserve]\n",
    "_reserve = [r for r in reserve if r not in lost]\n",
    "\n",
    "for r in _reserve:\n",
    "    if r-1 in _lost:\n",
    "        _lost.remove(r-1)\n",
    "    elif r+1 in _lost:\n",
    "        _lost.remove(r+1)\n",
    "\n",
    "print(n-len(_lost))"
   ]
  },
  {
   "cell_type": "code",
   "execution_count": null,
   "metadata": {},
   "outputs": [],
   "source": []
  },
  {
   "cell_type": "code",
   "execution_count": null,
   "metadata": {},
   "outputs": [],
   "source": []
  }
 ],
 "metadata": {
  "kernelspec": {
   "display_name": "Python 3",
   "language": "python",
   "name": "python3"
  },
  "language_info": {
   "codemirror_mode": {
    "name": "ipython",
    "version": 3
   },
   "file_extension": ".py",
   "mimetype": "text/x-python",
   "name": "python",
   "nbconvert_exporter": "python",
   "pygments_lexer": "ipython3",
   "version": "3.7.1"
  }
 },
 "nbformat": 4,
 "nbformat_minor": 2
}
