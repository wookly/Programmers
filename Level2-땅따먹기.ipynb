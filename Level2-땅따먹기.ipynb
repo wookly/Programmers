{
 "cells": [
  {
   "cell_type": "markdown",
   "metadata": {},
   "source": [
    "땅따먹기\n",
    "========\n",
    "\n",
    "땅따먹기 게임을 하려고 합니다. 땅따먹기 게임의 땅(land)은 총 N행 4열로 이루어져 있고, 모든 칸에는 점수가 쓰여 있습니다. 1행부터 땅을 밟으며 한 행씩 내려올 때, 각 행의 4칸 중 한 칸만 밟으면서 내려와야 합니다. 단, 땅따먹기 게임에는 한 행씩 내려올 때, 같은 열을 연속해서 밟을 수 없는 특수 규칙이 있습니다.\n",
    "\n",
    "예를 들면,\n",
    "\n",
    "| 1 | 2 | 3 | 5 |\n",
    "\n",
    "| 5 | 6 | 7 | 8 |\n",
    "\n",
    "| 4 | 3 | 2 | 1 |\n",
    "\n",
    "로 땅이 주어졌다면, 1행에서 네번째 칸 (5)를 밟았으면, 2행의 네번째 칸 (8)은 밟을 수 없습니다.\n",
    "\n",
    "마지막 행까지 모두 내려왔을 때, 얻을 수 있는 점수의 최대값을 return하는 solution 함수를 완성해 주세요. 위 예의 경우, 1행의 네번째 칸 (5), 2행의 세번째 칸 (7), 3행의 첫번째 칸 (4) 땅을 밟아 16점이 최고점이 되므로 16을 return 하면 됩니다.\n",
    "\n",
    "> 제한사항\n",
    "* 행의 개수 N : 100,000 이하의 자연수\n",
    "* 열의 개수는 4개이고, 땅(land)은 2차원 배열로 주어집니다.\n",
    "* 점수 : 100 이하의 자연수\n",
    "\n",
    "> 입출력 예\n",
    "\n",
    "| land | answer |\n",
    "| --- | :--- |\n",
    "| [[1,2,3,5],[5,6,7,8],[4,3,2,1]] | 16 |\n",
    "\n",
    "> 입출력 예 설명\n",
    "* 입출력 예 #1 : 문제의 예시와 같습니다."
   ]
  },
  {
   "cell_type": "code",
   "execution_count": 36,
   "metadata": {},
   "outputs": [],
   "source": [
    "def solution(land):\n",
    "\n",
    "    for i in range(1, len(land)):\n",
    "        land[i][0] = land[i][0] + max(land[i-1][1], land[i-1][2], land[i-1][3])\n",
    "        land[i][1] = land[i][1] + max(land[i-1][0], land[i-1][2], land[i-1][3])\n",
    "        land[i][2] = land[i][2] + max(land[i-1][0], land[i-1][1], land[i-1][3])\n",
    "        land[i][3] = land[i][3] + max(land[i-1][0], land[i-1][1], land[i-1][2])\n",
    "        \n",
    "    return max(land[-1])"
   ]
  },
  {
   "cell_type": "code",
   "execution_count": 37,
   "metadata": {},
   "outputs": [
    {
     "data": {
      "text/plain": [
       "16"
      ]
     },
     "execution_count": 37,
     "metadata": {},
     "output_type": "execute_result"
    }
   ],
   "source": [
    "land = [[1,2,3,5],[5,6,7,8],[4,3,2,1]]\n",
    "solution(land)"
   ]
  },
  {
   "cell_type": "code",
   "execution_count": 31,
   "metadata": {},
   "outputs": [],
   "source": [
    "def solution2(land):\n",
    " \n",
    "    answer = 0\n",
    "    for i in range(0, len(land)-1):\n",
    " \n",
    "        land[i+1][0] += max(land[i][1],land[i][2],land[i][3])\n",
    "    # i+1번째 행에 0번째 열에는 i번째 행에 1,2,3 열 중 최대값을 더해준다. 이런식으로 계속 더해나가면\n",
    "    # N-1번째에 열들을 각 선택지에서 가질 수 있는 최대값이 된다.\n",
    " \n",
    "        land[i+1][1] += max(land[i][0],land[i][2],land[i][3])\n",
    " \n",
    "        land[i+1][2] += max(land[i][0],land[i][1],land[i][3])\n",
    " \n",
    "        land[i+1][3] += max(land[i][0],land[i][1],land[i][2])\n",
    "   \n",
    "    answer = max(land[N-1])  # 바로 위에 코드가 똑같은 코드다. N-1행에서의 최대값을 가지는 열 answer에 대입한다.\n",
    "    # answer = max(land[N-1][0],land[N-1][1],land[N-1][2],land[N-1][3]) \n",
    "\n",
    "    return answer"
   ]
  },
  {
   "cell_type": "code",
   "execution_count": 32,
   "metadata": {},
   "outputs": [
    {
     "name": "stdout",
     "output_type": "stream",
     "text": [
      "[1, 2, 3, 5]\n",
      "[10, 11, 12, 11]\n",
      "[[1, 2, 3, 5], [10, 11, 12, 11], [16, 15, 13, 13]]\n"
     ]
    },
    {
     "data": {
      "text/plain": [
       "16"
      ]
     },
     "execution_count": 32,
     "metadata": {},
     "output_type": "execute_result"
    }
   ],
   "source": [
    "land = [[1,2,3,5],[5,6,7,8],[4,3,2,1]]\n",
    "\n",
    "for i in range(len(land)-1):\n",
    "    print(land[i])\n",
    "    \n",
    "    land[i+1][0] = max(land[i][1], land[i][2], land[i][3]) + land[i+1][0]\n",
    "    land[i+1][1] = max(land[i][0], land[i][2], land[i][3]) + land[i+1][1]\n",
    "    land[i+1][2] = max(land[i][0], land[i][1], land[i][3]) + land[i+1][2]\n",
    "    land[i+1][3] = max(land[i][0], land[i][1], land[i][2]) + land[i+1][3]\n",
    "    \n",
    "print(land)\n",
    "max(land[-1])"
   ]
  },
  {
   "cell_type": "code",
   "execution_count": 49,
   "metadata": {},
   "outputs": [],
   "source": [
    "def hopscotch(board, size):\n",
    "    accum = [0] * len(board[0])\n",
    "\n",
    "    for row in board:\n",
    "        tmp = accum[:]\n",
    "        for i in range(len(row)):\n",
    "            accum[i] = row[i] + max(tmp[:i] + tmp[i+1:])\n",
    "\n",
    "    return max(accum)"
   ]
  },
  {
   "cell_type": "code",
   "execution_count": 50,
   "metadata": {},
   "outputs": [
    {
     "data": {
      "text/plain": [
       "16"
      ]
     },
     "execution_count": 50,
     "metadata": {},
     "output_type": "execute_result"
    }
   ],
   "source": [
    "land = [[1,2,3,5],[5,6,7,8],[4,3,2,1]]\n",
    "hopscotch(land, 3)"
   ]
  },
  {
   "cell_type": "code",
   "execution_count": 66,
   "metadata": {},
   "outputs": [
    {
     "name": "stdout",
     "output_type": "stream",
     "text": [
      "[1, 0, 0, 0] [0, 0, 0, 0]\n",
      "[1, 2, 0, 0] [0, 0, 0, 0]\n",
      "[1, 2, 3, 0] [0, 0, 0, 0]\n",
      "[1, 2, 3, 5] [0, 0, 0, 0]\n",
      "[10, 2, 3, 5] [1, 2, 3, 5]\n",
      "[10, 11, 3, 5] [1, 2, 3, 5]\n",
      "[10, 11, 12, 5] [1, 2, 3, 5]\n",
      "[10, 11, 12, 11] [1, 2, 3, 5]\n",
      "[16, 11, 12, 11] [10, 11, 12, 11]\n",
      "[16, 15, 12, 11] [10, 11, 12, 11]\n",
      "[16, 15, 13, 11] [10, 11, 12, 11]\n",
      "[16, 15, 13, 13] [10, 11, 12, 11]\n",
      "[16, 15, 13, 13] 16\n"
     ]
    }
   ],
   "source": [
    "land = [[1,2,3,5],[5,6,7,8],[4,3,2,1]]\n",
    "\n",
    "accum = [0] * len(land[0])\n",
    "for row in land:\n",
    "    temp = accum[:]\n",
    "    for i in range(len(row)):\n",
    "        \n",
    "        accum[i] = row[i] + max(temp[:i] + temp[i+1:])\n",
    "        print(accum, temp[:])\n",
    "        \n",
    "print(accum, max(accum))"
   ]
  },
  {
   "cell_type": "code",
   "execution_count": null,
   "metadata": {},
   "outputs": [],
   "source": []
  },
  {
   "cell_type": "code",
   "execution_count": null,
   "metadata": {},
   "outputs": [],
   "source": []
  },
  {
   "cell_type": "code",
   "execution_count": null,
   "metadata": {},
   "outputs": [],
   "source": []
  },
  {
   "cell_type": "code",
   "execution_count": null,
   "metadata": {},
   "outputs": [],
   "source": []
  }
 ],
 "metadata": {
  "kernelspec": {
   "display_name": "Python 3",
   "language": "python",
   "name": "python3"
  },
  "language_info": {
   "codemirror_mode": {
    "name": "ipython",
    "version": 3
   },
   "file_extension": ".py",
   "mimetype": "text/x-python",
   "name": "python",
   "nbconvert_exporter": "python",
   "pygments_lexer": "ipython3",
   "version": "3.7.1"
  }
 },
 "nbformat": 4,
 "nbformat_minor": 2
}
