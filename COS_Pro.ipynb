{
 "cells": [
  {
   "cell_type": "markdown",
   "metadata": {},
   "source": [
    "지각 여부\n",
    "========\n",
    "\n",
    "지각이면 몇 분 지각인가?\n",
    "아니면 0을 리던하는 함수 작성\n",
    "\n",
    "* arr : 5분마다 정거장에 버스가 오고, 남은 자리가 표기\n",
    "* start : 출발시간\n",
    "* end : 도착해야하는 시간\n",
    "* duration : 이동시간\n",
    "\n",
    "\n",
    "> 입출력 예\n",
    "\n",
    "| arr | start | end | duration | result |\n",
    "| --- | :---: | :---: | :---: | :--- |\n",
    "|[0,0,1,0,2,0,3]| \"09:00\" | \"09:30\" | 15 | 0 |        \n",
    "| [0,0,0,0,0,5,8] | \"09:00\" | \"10:00\" | 40 | 5 |\n",
    "| [0,1,0,2,0,1,3] | \"09:00\" | \"09:10\" | 5 |  0 |\n",
    "\n",
    "* 2대 놓쳐서 10분+이동15분+출발시간 = 9시25분이므로 지각안함 즉, 0\n",
    "* 5대 놓쳐서 25분+이동40분+출발시간 = 10시05분이므로 지각하고 즉, 5\n",
    "* 1대 놓쳐서 5분+이동5분+출발시간 = 09시10분이므로 지각안함 즉, 0"
   ]
  },
  {
   "cell_type": "code",
   "execution_count": 47,
   "metadata": {},
   "outputs": [],
   "source": [
    "def solution(arr, start, end, duration):\n",
    "    answer = 0\n",
    "    bus = 0\n",
    "    arr_min = 0\n",
    "    arr_hour = 0\n",
    "    \n",
    "    for i, v in enumerate(arr):\n",
    "        if v == 0:\n",
    "            continue\n",
    "        else:\n",
    "            bus = i\n",
    "            break\n",
    "    \n",
    "    arr_min = bus * 5 + duration\n",
    "    \n",
    "    start_hour, start_min = start.split(\":\")\n",
    "    end_hour, end_min = end.split(\":\")\n",
    "    \n",
    "    arr_min += int(start_min)\n",
    "    arr_hour = int(start_hour)\n",
    "    \n",
    "    while arr_min >= 60:\n",
    "        arr_hour += 1\n",
    "        arr_min -= 60\n",
    "        \n",
    "    if arr_hour < int(end_hour): return 0\n",
    "    elif arr_hour == int(end_hour):\n",
    "        \n",
    "        if arr_min <= int(end_min): return 0\n",
    "        else:\n",
    "            return arr_min - int(end_min)\n",
    "    \n",
    "    else:\n",
    "        \n",
    "        answer = 60 * (arr_hour - int(end_hour))\n",
    "        if arr_min <= int(end_min): return answer + arr_min - int(end_min)\n",
    "        else:\n",
    "            return answer + arr_min - int(end_min)\n",
    "    \n",
    "    return answer"
   ]
  },
  {
   "cell_type": "code",
   "execution_count": 48,
   "metadata": {},
   "outputs": [
    {
     "name": "stdout",
     "output_type": "stream",
     "text": [
      "1번 케이스 : 55\n",
      "2번 케이스 : 5\n",
      "3번 케이스 : 0\n"
     ]
    }
   ],
   "source": [
    "print('1번 케이스 :',solution([0,0,1,0,2,0,3], \"09:00\", \"08:30\", 15)) #0정답\n",
    "print('2번 케이스 :',solution([0,0,0,0,0,5,8], \"09:00\", \"10:00\", 40)) #5정답\n",
    "print('3번 케이스 :',solution([0,1,0,2,0,1,3], \"09:00\", \"09:10\", 5))  #0정답"
   ]
  },
  {
   "cell_type": "markdown",
   "metadata": {},
   "source": [
    "프린터를 가격대비 가장 좋은걸로 사려한다\n",
    "\n",
    "* mymony : 수중의 금액\n",
    "* printers : [[프린터가격, 프린터성능]]\n",
    "* 지수 : 성능/가격\n",
    "\n",
    "\n",
    "    * mymoney : 2\n",
    "    * printers = [[3,9], [2,6], [1,3]]\n",
    "\n",
    "위 예시에서 지수(가격대비성능)은 모두 3으로 동일하지만,\n",
    "첫번째 프린터는 수중의 돈보다 크기때문에 살수없고 2,3번째 프린터를 살 수 있다.\n",
    " \n",
    "만약, 살수있는 프린터가 하나도 없으면 0을 출력하고\n",
    "살수 있고, 동일한 지수의 프린터가 여러개라면 그중 첫번째 자리를 리턴해야한다.\n",
    "살수 있고, 가장 좋은 프린터가 있다면 그 자리를 리턴해야 한다. \n",
    "위 예시에서는 2를 리턴"
   ]
  },
  {
   "cell_type": "code",
   "execution_count": 78,
   "metadata": {},
   "outputs": [],
   "source": [
    "def solution(printers, mymoney):\n",
    "    answer = 0\n",
    "    printer_index_list = []\n",
    "    max_index = 0\n",
    "    printer_index = 0\n",
    "        \n",
    "    for i in range(len(printers)):\n",
    "        \n",
    "        if printers[i][0] <= mymoney:\n",
    "            if max_index < printers[i][1]/printers[i][0]:\n",
    "                max_index = printers[i][1]/printers[i][0]\n",
    "                printer_index = i\n",
    "    \n",
    "    if max_index == 0:\n",
    "        return 0\n",
    "\n",
    "    return printer_index+1"
   ]
  },
  {
   "cell_type": "code",
   "execution_count": 79,
   "metadata": {},
   "outputs": [
    {
     "name": "stdout",
     "output_type": "stream",
     "text": [
      "1번 케이스 : 2\n"
     ]
    }
   ],
   "source": [
    "print('1번 케이스 :',solution([[3,9], [2,6], [1,3]], 2)) #2번정답"
   ]
  },
  {
   "cell_type": "code",
   "execution_count": 80,
   "metadata": {},
   "outputs": [
    {
     "name": "stdout",
     "output_type": "stream",
     "text": [
      "1번 케이스 : 2\n",
      "2번 케이스 : 0\n",
      "3번 케이스 : 1\n"
     ]
    }
   ],
   "source": [
    "print('1번 케이스 :',solution([[3,9], [2,6], [1,3]], 2)) #2번정답\n",
    "print('2번 케이스 :',solution([[3,9], [2,6], [3,3]], 1)) #0번정답\n",
    "print('3번 케이스 :',solution([[3,9], [4,6], [1,3]], 4)) #3번정답"
   ]
  },
  {
   "cell_type": "code",
   "execution_count": null,
   "metadata": {},
   "outputs": [],
   "source": []
  },
  {
   "cell_type": "code",
   "execution_count": null,
   "metadata": {},
   "outputs": [],
   "source": []
  }
 ],
 "metadata": {
  "kernelspec": {
   "display_name": "Python 3",
   "language": "python",
   "name": "python3"
  },
  "language_info": {
   "codemirror_mode": {
    "name": "ipython",
    "version": 3
   },
   "file_extension": ".py",
   "mimetype": "text/x-python",
   "name": "python",
   "nbconvert_exporter": "python",
   "pygments_lexer": "ipython3",
   "version": "3.7.3"
  }
 },
 "nbformat": 4,
 "nbformat_minor": 2
}
