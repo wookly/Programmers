{
 "cells": [
  {
   "cell_type": "markdown",
   "metadata": {},
   "source": [
    "조이스틱\n",
    "=======\n",
    "\n",
    "조이스틱으로 알파벳 이름을 완성하세요. 맨 처음엔 A로만 이루어져 있습니다.\n",
    "ex) 완성해야 하는 이름이 세 글자면 AAA, 네 글자면 AAAA\n",
    "\n",
    "조이스틱을 각 방향으로 움직이면 아래와 같습니다.\n",
    "\n",
    "    ▲ - 다음 알파벳\n",
    "    ▼ - 이전 알파벳 (A에서 아래쪽으로 이동하면 Z로)\n",
    "    ◀ - 커서를 왼쪽으로 이동 (첫 번째 위치에서 왼쪽으로 이동하면 마지막 문자에 커서)\n",
    "    ▶ - 커서를 오른쪽으로 이동\n",
    "\n",
    "예를 들어 아래의 방법으로 JAZ를 만들 수 있습니다.\n",
    "\n",
    "- 첫 번째 위치에서 조이스틱을 위로 9번 조작하여 J를 완성합니다.\n",
    "- 조이스틱을 왼쪽으로 1번 조작하여 커서를 마지막 문자 위치로 이동시킵니다.\n",
    "- 마지막 위치에서 조이스틱을 아래로 1번 조작하여 Z를 완성합니다.\n",
    "- 따라서 11번 이동시켜 \"JAZ\"를 만들 수 있고, 이때가 최소 이동입니다.\n",
    "\n",
    "만들고자 하는 이름 name이 매개변수로 주어질 때, 이름에 대해 조이스틱 조작 횟수의 최솟값을 return 하도록 solution 함수를 만드세요.\n",
    "\n",
    "> 제한 사항\n",
    "* name은 알파벳 대문자로만 이루어져 있습니다.\n",
    "* name의 길이는 1 이상 20 이하입니다.\n",
    "\n",
    "> 입출력 예\n",
    "\n",
    "| name | return |\n",
    "| --- | :--- |\n",
    "| 'JEROEN' | 56 |\n",
    "| 'JAN' | 23 |"
   ]
  },
  {
   "cell_type": "code",
   "execution_count": 1,
   "metadata": {},
   "outputs": [],
   "source": [
    "def solution(name):\n",
    "\n",
    "    up_down = 0\n",
    "    \n",
    "    for i, c in enumerate(name):\n",
    "        up_down += min( ord(c)-ord('A'), 26-(ord(c)-ord('A')) )\n",
    "        if c != 'A':\n",
    "            right = i\n",
    "            \n",
    "    for i, c in enumerate(name[:0:-1], start=1):\n",
    "        if c != 'A':\n",
    "            left = i\n",
    "            \n",
    "    return up_down + min(left, right)"
   ]
  },
  {
   "cell_type": "code",
   "execution_count": 2,
   "metadata": {},
   "outputs": [
    {
     "data": {
      "text/plain": [
       "56"
      ]
     },
     "execution_count": 2,
     "metadata": {},
     "output_type": "execute_result"
    }
   ],
   "source": [
    "name = 'JEROEN'\n",
    "solution(name)"
   ]
  },
  {
   "cell_type": "code",
   "execution_count": 19,
   "metadata": {},
   "outputs": [],
   "source": [
    "def solution(name):\n",
    "    \n",
    "    answer = 0\n",
    "    name = list(name)\n",
    "    base = [\"A\"]*len(name)\n",
    "    idx = 0\n",
    "    \n",
    "    while True:\n",
    "        \n",
    "        rightidx = 1\n",
    "        leftidx = 1\n",
    "        \n",
    "        if name[idx] != \"A\":\n",
    "            if ord(name[idx]) - ord(\"A\") > 13:\n",
    "                answer += 26 - (ord(name[idx]) - ord(\"A\"))\n",
    "            else:\n",
    "                answer += ord(name[idx]) - ord(\"A\")\n",
    "                \n",
    "            name[idx] = \"A\"\n",
    "            \n",
    "        if name == base:\n",
    "            break\n",
    "            \n",
    "        else:\n",
    "            for i in range(1, len(name)):\n",
    "                \n",
    "                if name[idx+i] == \"A\":\n",
    "                    rightidx += 1\n",
    "                else:\n",
    "                    break\n",
    "                    \n",
    "                if name[idx-i] == \"A\":\n",
    "                    leftidx += 1\n",
    "                else:\n",
    "                    break\n",
    "                    \n",
    "            if rightidx > leftidx:\n",
    "                answer += leftidx\n",
    "                idx -= leftidx\n",
    "            else:\n",
    "                answer += rightidx\n",
    "                idx += rightidx\n",
    "                \n",
    "    return answer"
   ]
  },
  {
   "cell_type": "code",
   "execution_count": 20,
   "metadata": {},
   "outputs": [
    {
     "data": {
      "text/plain": [
       "56"
      ]
     },
     "execution_count": 20,
     "metadata": {},
     "output_type": "execute_result"
    }
   ],
   "source": [
    "name = 'JEROEN'\n",
    "solution(name)"
   ]
  },
  {
   "cell_type": "code",
   "execution_count": 24,
   "metadata": {},
   "outputs": [],
   "source": [
    "def solution(name):\n",
    "    \n",
    "    string = list(\"ABCDEFGHIJKLMNOPQRSTUVWXYZ\")\n",
    "    cnt = len(name)-1\n",
    "    \n",
    "    for i in range(len(name)):\n",
    "        cnt += min(string.index(name[i]), 26-string.index(name[i]))\n",
    "        \n",
    "    sub1,sub2 = 0,0\n",
    "    j = 1\n",
    "    \n",
    "    while name[j] == \"A\":\n",
    "        sub1 += 1\n",
    "        j += 1\n",
    "        \n",
    "    while name[-j] == \"A\":\n",
    "        sub2 += 1\n",
    "        j -= 1\n",
    "    \n",
    "    return cnt - max(sub1,sub2)"
   ]
  },
  {
   "cell_type": "code",
   "execution_count": 25,
   "metadata": {},
   "outputs": [
    {
     "data": {
      "text/plain": [
       "56"
      ]
     },
     "execution_count": 25,
     "metadata": {},
     "output_type": "execute_result"
    }
   ],
   "source": [
    "name = 'JEROEN'\n",
    "solution(name)"
   ]
  },
  {
   "cell_type": "code",
   "execution_count": null,
   "metadata": {},
   "outputs": [],
   "source": []
  },
  {
   "cell_type": "code",
   "execution_count": null,
   "metadata": {},
   "outputs": [],
   "source": []
  },
  {
   "cell_type": "code",
   "execution_count": null,
   "metadata": {},
   "outputs": [],
   "source": []
  },
  {
   "cell_type": "code",
   "execution_count": null,
   "metadata": {},
   "outputs": [],
   "source": []
  },
  {
   "cell_type": "code",
   "execution_count": null,
   "metadata": {},
   "outputs": [],
   "source": []
  }
 ],
 "metadata": {
  "kernelspec": {
   "display_name": "Python 3",
   "language": "python",
   "name": "python3"
  },
  "language_info": {
   "codemirror_mode": {
    "name": "ipython",
    "version": 3
   },
   "file_extension": ".py",
   "mimetype": "text/x-python",
   "name": "python",
   "nbconvert_exporter": "python",
   "pygments_lexer": "ipython3",
   "version": "3.7.3"
  }
 },
 "nbformat": 4,
 "nbformat_minor": 2
}
