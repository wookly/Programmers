{
 "cells": [
  {
   "cell_type": "markdown",
   "metadata": {},
   "source": [
    "JadenCase 문자열 만들기\n",
    "====================\n",
    "\n",
    "JadenCase란 모든 단어의 첫 문자가 대문자이고, 그 외의 알파벳은 소문자인 문자열입니다. 문자열 s가 주어졌을 때, s를 JadenCase로 바꾼 문자열을 리턴하는 함수, solution을 완성해주세요.\n",
    "\n",
    "> 제한 조건\n",
    "* 길이 1 이상인 문자열입니다.\n",
    "* 알파벳과 공백문자(\" \")로 이루어져 있습니다.\n",
    "* 문자가 영문이 아닐때에는 이어지는 영문은 소문자로 씁니다. ( 첫번째 입출력 예 참고 )\n",
    "\n",
    "> 입출력 예\n",
    "\n",
    "| s | return |\n",
    "| --- | :--- |\n",
    "| \"3people unFollowed me\" | \"3people Unfollowed Me\" |\n",
    "| \"for the last week\" | \"For The Last Week\" |"
   ]
  },
  {
   "cell_type": "code",
   "execution_count": 17,
   "metadata": {},
   "outputs": [],
   "source": [
    "def solution(s):\n",
    "    answer = []\n",
    "    slower = s.lower()\n",
    "    sList = slower.split()\n",
    "    print(sList)\n",
    "    \n",
    "    for word in sList:\n",
    "        \n",
    "        if word == ' ':\n",
    "            answer.append(word)\n",
    "            continue\n",
    "            \n",
    "        if word[0].isdigit():\n",
    "            answer.append(word)\n",
    "            continue\n",
    "            \n",
    "        answer.append(word[0].upper() + word[1:])\n",
    "        \n",
    "    print(' '.join(answer))\n",
    "    \n",
    "    return answer"
   ]
  },
  {
   "cell_type": "code",
   "execution_count": 18,
   "metadata": {},
   "outputs": [
    {
     "name": "stdout",
     "output_type": "stream",
     "text": [
      "['3people', 'unfollowed', 'me']\n",
      "3people Unfollowed Me\n"
     ]
    },
    {
     "data": {
      "text/plain": [
       "['3people', 'Unfollowed', 'Me']"
      ]
     },
     "execution_count": 18,
     "metadata": {},
     "output_type": "execute_result"
    }
   ],
   "source": [
    "s = \"3people unFollowed me \"\n",
    "\n",
    "solution(s)"
   ]
  },
  {
   "cell_type": "code",
   "execution_count": 25,
   "metadata": {},
   "outputs": [
    {
     "name": "stdout",
     "output_type": "stream",
     "text": [
      "3people Unfollowed Me\n"
     ]
    }
   ],
   "source": [
    "answer = []\n",
    "for word in s.split():\n",
    "    answer.append( word[0].upper() + word[1:].lower() )\n",
    "    \n",
    "print(' '.join(answer))"
   ]
  },
  {
   "cell_type": "code",
   "execution_count": 33,
   "metadata": {},
   "outputs": [
    {
     "name": "stdout",
     "output_type": "stream",
     "text": [
      "3people Unfollowed Me\n"
     ]
    }
   ],
   "source": [
    "answer = []\n",
    "\n",
    "s = s.lower()\n",
    "sList = s.split()\n",
    "for i in sList:\n",
    "    answer.append( i.capitalize() )\n",
    "    \n",
    "print(' '.join(answer))"
   ]
  },
  {
   "cell_type": "code",
   "execution_count": null,
   "metadata": {},
   "outputs": [],
   "source": []
  },
  {
   "cell_type": "code",
   "execution_count": null,
   "metadata": {},
   "outputs": [],
   "source": []
  }
 ],
 "metadata": {
  "kernelspec": {
   "display_name": "Python 3",
   "language": "python",
   "name": "python3"
  },
  "language_info": {
   "codemirror_mode": {
    "name": "ipython",
    "version": 3
   },
   "file_extension": ".py",
   "mimetype": "text/x-python",
   "name": "python",
   "nbconvert_exporter": "python",
   "pygments_lexer": "ipython3",
   "version": "3.7.3"
  }
 },
 "nbformat": 4,
 "nbformat_minor": 2
}
