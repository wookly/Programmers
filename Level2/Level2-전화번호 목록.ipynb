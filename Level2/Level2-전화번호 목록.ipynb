{
 "cells": [
  {
   "cell_type": "markdown",
   "metadata": {},
   "source": [
    "전화번호 목록\n",
    "===========\n",
    "\n",
    "전화번호부에 적힌 전화번호 중, 한 번호가 다른 번호의 접두어인 경우가 있는지 확인하려 합니다.\n",
    "전화번호가 다음과 같을 경우, 구조대 전화번호는 영석이의 전화번호의 접두사입니다.\n",
    "\n",
    "구조대 : 119\n",
    "박준영 : 97 674 223\n",
    "지영석 : 11 9552 4421\n",
    "\n",
    "전화번호부에 적힌 전화번호를 담은 배열 phone_book 이 solution 함수의 매개변수로 주어질 때, 어떤 번호가 다른 번호의 접두어인 경우가 있으면 false를 그렇지 않으면 true를 return 하도록 solution 함수를 작성해주세요.\n",
    "\n",
    "> 제한 사항\n",
    "* phone_book의 길이는 1 이상 1,000,000 이하입니다.\n",
    "* 각 전화번호의 길이는 1 이상 20 이하입니다.\n",
    "\n",
    "> 입출력 예제\n",
    "\n",
    "| phone_book | return |\n",
    "|---|:---|\n",
    "| [119, 97674223, 1195524421] |\tfalse |\n",
    "| [123,456,789] | true |\n",
    "| [12,123,1235,567,88] | false |\n",
    "\n",
    "> 입출력 예 설명\n",
    "* 입출력 예 #1: 앞에서 설명한 예와 같습니다.\n",
    "* 입출력 예 #2: 한 번호가 다른 번호의 접두사인 경우가 없으므로, 답은 true입니다.\n",
    "* 입출력 예 #3: 첫 번째 전화번호, “12”가 두 번째 전화번호 “123”의 접두사입니다. 따라서 답은 false입니다."
   ]
  },
  {
   "cell_type": "code",
   "execution_count": 10,
   "metadata": {},
   "outputs": [],
   "source": [
    "def solution(phone_book):\n",
    "    \n",
    "    phone_book.sort()\n",
    "    for p1, p2 in zip(phone_book, phone_book[1:]):\n",
    "        if p2.startswith(p1):\n",
    "            return False\n",
    "    \n",
    "    return True"
   ]
  },
  {
   "cell_type": "code",
   "execution_count": 11,
   "metadata": {},
   "outputs": [
    {
     "data": {
      "text/plain": [
       "False"
      ]
     },
     "execution_count": 11,
     "metadata": {},
     "output_type": "execute_result"
    }
   ],
   "source": [
    "phone_book = ['119', '97674223', '1195524421', '11']\n",
    "#phone_book = ['123','456','789']\n",
    "\n",
    "solution(phone_book)"
   ]
  },
  {
   "cell_type": "code",
   "execution_count": 13,
   "metadata": {},
   "outputs": [],
   "source": [
    "def solution(phone_book):\n",
    "    \n",
    "    phone_book.sort()\n",
    "    for p in range(len(phone_book)-1):\n",
    "        if phone_book[p] in phone_book[p+1] :\n",
    "            return False\n",
    "    return True"
   ]
  },
  {
   "cell_type": "code",
   "execution_count": 15,
   "metadata": {},
   "outputs": [],
   "source": [
    "def solution(phone_book):\n",
    "    \n",
    "    phone_book.sort()\n",
    "    for prefix_idx, prefix_phone in enumerate(phone_book):\n",
    "        \n",
    "        for target_phone in phone_book[prefix_idx+1:]:\n",
    "            if prefix_phone == target_phone[:len(prefix_phone)]:\n",
    "                return False\n",
    "            \n",
    "    return True"
   ]
  },
  {
   "cell_type": "code",
   "execution_count": 31,
   "metadata": {},
   "outputs": [
    {
     "data": {
      "text/plain": [
       "['11', '119', '97674223', '1195524421']"
      ]
     },
     "execution_count": 31,
     "metadata": {},
     "output_type": "execute_result"
    }
   ],
   "source": [
    "phone_book = ['119', '97674223', '1195524421', '11']\n",
    "phone_book = sorted(phone_book, key=lambda x: len(x))\n",
    "phone_book\n",
    "\n",
    "for i, p1 in enumerate(phone_book):\n",
    "    for p2 in phone_book[i+1:]:\n",
    "        \n",
    "        print(  )"
   ]
  },
  {
   "cell_type": "code",
   "execution_count": 32,
   "metadata": {},
   "outputs": [
    {
     "data": {
      "text/plain": [
       "['11', '119', '1195524421', '97674223']"
      ]
     },
     "execution_count": 32,
     "metadata": {},
     "output_type": "execute_result"
    }
   ],
   "source": [
    "phone_book = ['119', '97674223', '1195524421', '11']\n",
    "phone_book.sort()\n",
    "phone_book"
   ]
  },
  {
   "cell_type": "code",
   "execution_count": 17,
   "metadata": {},
   "outputs": [],
   "source": [
    "def solution(phone_book):\n",
    "    \n",
    "    phone_book = sorted(phone_book, key=lambda x: len(x))\n",
    "    answer = True\n",
    "    \n",
    "    for i, phone1 in enumerate(phone_book):\n",
    "        hash_map = {}\n",
    "        \n",
    "        for phone2 in phone_book[i+1:]:\n",
    "            hash_map[phone2[:len(phone1)]] = phone2\n",
    "            \n",
    "        if phone1 in hash_map:\n",
    "            answer = False\n",
    "            break\n",
    "    return answer"
   ]
  },
  {
   "cell_type": "code",
   "execution_count": 30,
   "metadata": {},
   "outputs": [
    {
     "name": "stdout",
     "output_type": "stream",
     "text": [
      "['11', '119', '97674223', '1195524421']\n",
      "---------------------------\n",
      "11 119\n",
      "97 97674223\n",
      "11 1195524421\n",
      "False\n",
      "11 {'11': '1195524421', '97': '97674223'}\n",
      "---------------------------\n",
      "976 97674223\n",
      "119 1195524421\n",
      "False\n",
      "119 {'976': '97674223', '119': '1195524421'}\n",
      "---------------------------\n",
      "11955244 1195524421\n",
      "97674223 {'11955244': '1195524421'}\n",
      "---------------------------\n",
      "1195524421 {}\n",
      "---------------------------\n"
     ]
    }
   ],
   "source": [
    "phone_book = ['119', '97674223', '1195524421', '11']\n",
    "phone_book = sorted(phone_book, key=lambda x: len(x))\n",
    "\n",
    "print(phone_book)\n",
    "print('---------------------------')\n",
    "\n",
    "for i, p1 in enumerate(phone_book):\n",
    "    hash_map = {}\n",
    "    \n",
    "    for p2 in phone_book[i+1:]:\n",
    "        print( p2[:len(p1)], p2 )\n",
    "        hash_map[ p2[:len(p1)] ] = p2\n",
    "        \n",
    "    if p1 in hash_map:\n",
    "        print(False)\n",
    "    \n",
    "    print(p1, hash_map)\n",
    "    print('---------------------------')"
   ]
  },
  {
   "cell_type": "code",
   "execution_count": null,
   "metadata": {},
   "outputs": [],
   "source": []
  },
  {
   "cell_type": "code",
   "execution_count": null,
   "metadata": {},
   "outputs": [],
   "source": []
  },
  {
   "cell_type": "code",
   "execution_count": null,
   "metadata": {},
   "outputs": [],
   "source": []
  }
 ],
 "metadata": {
  "kernelspec": {
   "display_name": "Python 3",
   "language": "python",
   "name": "python3"
  },
  "language_info": {
   "codemirror_mode": {
    "name": "ipython",
    "version": 3
   },
   "file_extension": ".py",
   "mimetype": "text/x-python",
   "name": "python",
   "nbconvert_exporter": "python",
   "pygments_lexer": "ipython3",
   "version": "3.7.1"
  }
 },
 "nbformat": 4,
 "nbformat_minor": 2
}
