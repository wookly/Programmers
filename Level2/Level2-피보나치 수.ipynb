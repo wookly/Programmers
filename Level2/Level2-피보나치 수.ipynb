{
 "cells": [
  {
   "cell_type": "markdown",
   "metadata": {},
   "source": [
    "피보나치 수\n",
    "=========\n",
    "\n",
    "피보나치 수는 F(0) = 0, F(1) = 1일 때, 1 이상의 n에 대하여 F(n) = F(n-1) + F(n-2) 가 적용되는 수 입니다.\n",
    "\n",
    "예를들어\n",
    "\n",
    "    F(2) = F(0) + F(1) = 0 + 1 = 1\n",
    "    F(3) = F(1) + F(2) = 1 + 1 = 2\n",
    "    F(4) = F(2) + F(3) = 1 + 2 = 3\n",
    "    F(5) = F(3) + F(4) = 2 + 3 = 5\n",
    "와 같이 이어집니다.\n",
    "\n",
    "2 이상의 n이 입력되었을 때, n번째 피보나치 수를 1234567으로 나눈 나머지를 리턴하는 함수, solution을 완성해 주세요.\n",
    "\n",
    "> 제한 사항\n",
    "* n은 1이상, 100000이하인 자연수입니다.\n",
    "\n",
    "> 입출력 예\n",
    "\n",
    "| n | return |\n",
    "| --- | :--- |\n",
    "| 3 | 2 |\n",
    "| 5 | 5 |\n",
    "\n",
    "> 입출력 예 설명: 피보나치수는 0번째부터 0, 1, 1, 2, 3, 5, ... 와 같이 이어집니다."
   ]
  },
  {
   "cell_type": "code",
   "execution_count": 10,
   "metadata": {},
   "outputs": [],
   "source": [
    "def fibonacci(n):\n",
    "    a, b = 0, 1\n",
    "    \n",
    "    for i in range(n):\n",
    "        a, b = b, a + b\n",
    "        \n",
    "    return a\n",
    "\n",
    "def solution(n):\n",
    "    \n",
    "    return fibonacci(n) % 1234567"
   ]
  },
  {
   "cell_type": "code",
   "execution_count": 11,
   "metadata": {},
   "outputs": [
    {
     "data": {
      "text/plain": [
       "2"
      ]
     },
     "execution_count": 11,
     "metadata": {},
     "output_type": "execute_result"
    }
   ],
   "source": [
    "n = 3\n",
    "\n",
    "solution(n)"
   ]
  },
  {
   "cell_type": "code",
   "execution_count": 4,
   "metadata": {},
   "outputs": [],
   "source": [
    "def fibonacci(n):\n",
    "    \n",
    "    if n == 0:\n",
    "        return 0\n",
    "    elif n == 1:\n",
    "        return 1\n",
    "    else:\n",
    "        return fibonacci(n-1) + fibonacci(n-2)"
   ]
  },
  {
   "cell_type": "code",
   "execution_count": 8,
   "metadata": {},
   "outputs": [],
   "source": [
    "def fibonacci(num):\n",
    "    a, b = 0, 1\n",
    "    \n",
    "    for i in range(num):\n",
    "        a, b = b, a + b\n",
    "        \n",
    "    return a"
   ]
  },
  {
   "cell_type": "code",
   "execution_count": 9,
   "metadata": {},
   "outputs": [
    {
     "data": {
      "text/plain": [
       "354224848179261915075"
      ]
     },
     "execution_count": 9,
     "metadata": {},
     "output_type": "execute_result"
    }
   ],
   "source": [
    "fibonacci(100)"
   ]
  },
  {
   "cell_type": "code",
   "execution_count": null,
   "metadata": {},
   "outputs": [],
   "source": []
  }
 ],
 "metadata": {
  "kernelspec": {
   "display_name": "Python 3",
   "language": "python",
   "name": "python3"
  },
  "language_info": {
   "codemirror_mode": {
    "name": "ipython",
    "version": 3
   },
   "file_extension": ".py",
   "mimetype": "text/x-python",
   "name": "python",
   "nbconvert_exporter": "python",
   "pygments_lexer": "ipython3",
   "version": "3.7.3"
  }
 },
 "nbformat": 4,
 "nbformat_minor": 2
}
