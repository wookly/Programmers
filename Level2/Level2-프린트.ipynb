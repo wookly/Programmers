{
 "cells": [
  {
   "cell_type": "markdown",
   "metadata": {},
   "source": [
    "프린터\n",
    "=====\n",
    "\n",
    "일반적인 프린터는 인쇄 요청이 들어온 순서대로 인쇄합니다. 그렇기 때문에 중요한 문서가 나중에 인쇄될 수 있습니다. 이런 문제를 보완하기 위해 중요도가 높은 문서를 먼저 인쇄하는 프린터를 개발했습니다. 이 새롭게 개발한 프린터는 아래와 같은 방식으로 인쇄 작업을 수행합니다.\n",
    "\n",
    "1. 인쇄 대기목록의 가장 앞에 있는 문서(J)를 대기목록에서 꺼냅니다.\n",
    "2. 나머지 인쇄 대기목록에서 J보다 중요도가 높은 문서가 한 개라도 존재하면 J를 대기목록의 가장 마지막에 넣습니다.\n",
    "3. 그렇지 않으면 J를 인쇄합니다.\n",
    "\n",
    "예를 들어, 4개의 문서(A, B, C, D)가 순서대로 인쇄 대기목록에 있고 중요도가 2 1 3 2 라면 C D A B 순으로 인쇄하게 됩니다.\n",
    "\n",
    "내가 인쇄를 요청한 문서가 몇 번째로 인쇄되는지 알고 싶습니다. 위의 예에서 C는 1번째로, A는 3번째로 인쇄됩니다.\n",
    "\n",
    "현재 대기목록에 있는 문서의 중요도가 순서대로 담긴 배열 priorities와 내가 인쇄를 요청한 문서가 현재 대기목록의 어떤 위치에 있는지를 알려주는 location이 매개변수로 주어질 때, 내가 인쇄를 요청한 문서가 몇 번째로 인쇄되는지 return 하도록 solution 함수를 작성해주세요.\n",
    "\n",
    "> 제한사항\n",
    "* 현재 대기목록에는 1개 이상 100개 이하의 문서가 있습니다.\n",
    "* 인쇄 작업의 중요도는 1~9로 표현하며 숫자가 클수록 중요하다는 뜻입니다.\n",
    "* location은 0 이상 (현재 대기목록에 있는 작업 수 - 1) 이하의 값을 가지며 대기목록의 가장 앞에 있으면 0, 두 번째에 있으면 1로 표현합니다.\n",
    "\n",
    "> 입출력 예\n",
    "\n",
    "| priorities | location | return |\n",
    "| --- | :---: | :--- |\n",
    "| [2, 1, 3, 2] | 2 | 1 |\n",
    "| [1, 1, 9, 1, 1, 1] | 0 | 5 |\n",
    "\n",
    "> 입출력 예 설명\n",
    "* 예제 #1 : 문제에 나온 예와 같습니다.\n",
    "* 예제 #2 : 6개의 문서(A, B, C, D, E, F)가 인쇄 대기목록에 있고 중요도가 1 1 9 1 1 1 이므로 C D E F A B 순으로 인쇄합니다."
   ]
  },
  {
   "cell_type": "code",
   "execution_count": 22,
   "metadata": {},
   "outputs": [],
   "source": [
    "def solution(priorities, location):\n",
    "    cnt = 0\n",
    "    printed = []\n",
    "   \n",
    "    while priorities:\n",
    "        \n",
    "        priority = priorities.pop(0)\n",
    "        \n",
    "        for p in priorities:\n",
    "            \n",
    "            if priority < p:                \n",
    "                priorities.append(priority)\n",
    "                if location == 0:\n",
    "                    location = len(priorities)-1\n",
    "                else:\n",
    "                    location -= 1\n",
    "                break\n",
    "        else:\n",
    "            printed.append(priority)\n",
    "            cnt += 1\n",
    "            if location == 0:\n",
    "                return cnt\n",
    "            else:\n",
    "                location -= 1\n",
    "\n",
    "    return cnt"
   ]
  },
  {
   "cell_type": "code",
   "execution_count": 23,
   "metadata": {},
   "outputs": [
    {
     "data": {
      "text/plain": [
       "5"
      ]
     },
     "execution_count": 23,
     "metadata": {},
     "output_type": "execute_result"
    }
   ],
   "source": [
    "# priorities = [2, 1, 3, 2]\n",
    "# location = 2\n",
    "\n",
    "priorities = [1, 1, 9, 1, 1, 1]\n",
    "location = 0\n",
    "\n",
    "solution(priorities, location)"
   ]
  },
  {
   "cell_type": "code",
   "execution_count": 38,
   "metadata": {},
   "outputs": [
    {
     "name": "stdout",
     "output_type": "stream",
     "text": [
      "deque([[2, 0], [1, 1], [3, 2], [2, 3]]) 3\n",
      "1\n"
     ]
    }
   ],
   "source": [
    "priorities = [2, 1, 3, 2]\n",
    "location = 2\n",
    "from collections import deque\n",
    "\n",
    "answer = 0\n",
    "queue = deque([v, i] for i, v in enumerate(priorities))\n",
    "print(queue, max(queue)[0])\n",
    "\n",
    "while len(queue):\n",
    "    doc = queue.popleft()\n",
    "    if queue and max(queue)[0] > doc[0]:\n",
    "        queue.append(doc)\n",
    "    else:\n",
    "        answer += 1\n",
    "        if doc[1] == location:\n",
    "            break\n",
    "            \n",
    "print(answer)"
   ]
  },
  {
   "cell_type": "code",
   "execution_count": 39,
   "metadata": {},
   "outputs": [],
   "source": [
    "def solution(priorities, location):\n",
    "    printed = []\n",
    "    cnt = 0\n",
    "\n",
    "    while len(priorities)>0:\n",
    "\n",
    "        max_value = max(priorities)\n",
    "        if max_value != priorities[0]:\n",
    "            priorities.append(priorities.pop(0))\n",
    "\n",
    "            if location == 0:\n",
    "                location = len(priorities)-1\n",
    "            else:\n",
    "                location -= 1\n",
    "        else:\n",
    "            printed.append(priorities.pop(0))\n",
    "            cnt += 1\n",
    "            if location == 0:\n",
    "                return cnt\n",
    "            else:\n",
    "                location -= 1\n",
    "\n",
    "    return cnt"
   ]
  },
  {
   "cell_type": "code",
   "execution_count": null,
   "metadata": {},
   "outputs": [],
   "source": []
  }
 ],
 "metadata": {
  "kernelspec": {
   "display_name": "Python 3",
   "language": "python",
   "name": "python3"
  },
  "language_info": {
   "codemirror_mode": {
    "name": "ipython",
    "version": 3
   },
   "file_extension": ".py",
   "mimetype": "text/x-python",
   "name": "python",
   "nbconvert_exporter": "python",
   "pygments_lexer": "ipython3",
   "version": "3.7.1"
  }
 },
 "nbformat": 4,
 "nbformat_minor": 2
}
