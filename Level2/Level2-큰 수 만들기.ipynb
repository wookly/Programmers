{
 "cells": [
  {
   "cell_type": "markdown",
   "metadata": {},
   "source": [
    "큰 수 만들기\n",
    "==========\n",
    "\n",
    "어떤 숫자에서 k개의 수를 제거했을 때 얻을 수 있는 가장 큰 숫자를 구하려 합니다.\n",
    "\n",
    "예를 들어, 숫자 1924에서 수 두 개를 제거하면 [19, 12, 14, 92, 94, 24] 를 만들 수 있습니다. 이 중 가장 큰 숫자는 94 입니다.\n",
    "\n",
    "문자열 형식으로 숫자 number와 제거할 수의 개수 k가 solution 함수의 매개변수로 주어집니다. number에서 k 개의 수를 제거했을 때 만들 수 있는 수 중 가장 큰 숫자를 문자열 형태로 return 하도록 solution 함수를 완성하세요.\n",
    "\n",
    "> 제한 조건\n",
    "* number는 1자리 이상, 1,000,000자리 이하인 숫자입니다.\n",
    "* k는 1 이상 number의 자릿수 미만인 자연수입니다.\n",
    "\n",
    "> 입출력 예\n",
    "\n",
    "| number | k | return |\n",
    "| ----- | :-----: | :----- |\n",
    "| '1924' | 2 | \"94\" |\n",
    "| '1231234' | 3 | \"3234\" |\n",
    "| '4177252841' | 4 | \"775841\" |\n"
   ]
  },
  {
   "cell_type": "code",
   "execution_count": 26,
   "metadata": {},
   "outputs": [],
   "source": [
    "def solution(number, k):\n",
    "    answer = ''\n",
    "    stack = []\n",
    "    \n",
    "    for i, num in enumerate(number):\n",
    "        \n",
    "        while len(stack) > 0 and stack[-1] < num and k > 0:\n",
    "            stack.pop(-1)\n",
    "            k -= 1\n",
    "        \n",
    "        stack.append(num)\n",
    "    \n",
    "    if k != 0:\n",
    "        stack = stack[:-k]\n",
    "    \n",
    "    return ''.join(stack)"
   ]
  },
  {
   "cell_type": "code",
   "execution_count": 29,
   "metadata": {},
   "outputs": [
    {
     "data": {
      "text/plain": [
       "'3234'"
      ]
     },
     "execution_count": 29,
     "metadata": {},
     "output_type": "execute_result"
    }
   ],
   "source": [
    "# number = \"1924\"\n",
    "# k = 2\n",
    "\n",
    "number = '1231234'\n",
    "k = 3\n",
    "\n",
    "# number = \"4177252841\"\n",
    "# k = 4\n",
    "\n",
    "solution(number, k)"
   ]
  },
  {
   "cell_type": "code",
   "execution_count": 19,
   "metadata": {},
   "outputs": [],
   "source": [
    "def solution(number, k):\n",
    "    \n",
    "    stack = [number[0]]\n",
    "    for num in number[1:]:\n",
    "        \n",
    "        while len(stack) > 0 and stack[-1] < num and k > 0:\n",
    "            k -= 1\n",
    "            stack.pop()\n",
    "            \n",
    "        stack.append(num)\n",
    "        \n",
    "    if k != 0:\n",
    "        stack = stack[:-k]\n",
    "        \n",
    "    return ''.join(stack)"
   ]
  },
  {
   "cell_type": "code",
   "execution_count": 20,
   "metadata": {},
   "outputs": [
    {
     "data": {
      "text/plain": [
       "'775841'"
      ]
     },
     "execution_count": 20,
     "metadata": {},
     "output_type": "execute_result"
    }
   ],
   "source": [
    "# number = \"1924\"\n",
    "# k = 2\n",
    "\n",
    "number = \"4177252841\"\n",
    "k = 4\n",
    "\n",
    "solution(number, k)"
   ]
  },
  {
   "cell_type": "code",
   "execution_count": 21,
   "metadata": {},
   "outputs": [],
   "source": [
    "def solution(number, k):\n",
    "    answer = ''\n",
    "    stack = []\n",
    "    number_list = list(str(number))\n",
    "    \n",
    "    for i, num in enumerate(number_list):\n",
    "        \n",
    "        while len(stack) > 0 and stack[-1] < num and k > 0:\n",
    "            stack.pop()\n",
    "            k -= 1\n",
    "                \n",
    "        if k == 0:\n",
    "            stack += list(number_list[i:])\n",
    "            break\n",
    "            \n",
    "        stack.append(num)\n",
    "    \n",
    "    stack = stack[:-k] if k > 0 else stack\n",
    "    \n",
    "    return ''.join(stack)"
   ]
  },
  {
   "cell_type": "code",
   "execution_count": 22,
   "metadata": {},
   "outputs": [
    {
     "data": {
      "text/plain": [
       "'775841'"
      ]
     },
     "execution_count": 22,
     "metadata": {},
     "output_type": "execute_result"
    }
   ],
   "source": [
    "number = \"4177252841\"\n",
    "k = 4\n",
    "\n",
    "solution(number, k)"
   ]
  },
  {
   "cell_type": "code",
   "execution_count": 24,
   "metadata": {},
   "outputs": [
    {
     "name": "stdout",
     "output_type": "stream",
     "text": [
      "775841\n"
     ]
    }
   ],
   "source": [
    "number = \"4177252841\"\n",
    "k = 4\n",
    "\n",
    "stack = []\n",
    "numList = list(number)\n",
    "\n",
    "for i, num in enumerate(numList):\n",
    "    \n",
    "    while len(stack) > 0 and stack[-1] < num and k > 0:\n",
    "        stack.pop(-1)\n",
    "        k -= 1\n",
    "    \n",
    "    if k == 0:\n",
    "        stack += numList[i:]\n",
    "        break\n",
    "    \n",
    "    stack.append(num)\n",
    "\n",
    "if k > 0:\n",
    "    stack = stack[:-k]\n",
    "\n",
    "print(''.join(stack))"
   ]
  },
  {
   "cell_type": "code",
   "execution_count": null,
   "metadata": {},
   "outputs": [],
   "source": []
  }
 ],
 "metadata": {
  "kernelspec": {
   "display_name": "Python 3",
   "language": "python",
   "name": "python3"
  },
  "language_info": {
   "codemirror_mode": {
    "name": "ipython",
    "version": 3
   },
   "file_extension": ".py",
   "mimetype": "text/x-python",
   "name": "python",
   "nbconvert_exporter": "python",
   "pygments_lexer": "ipython3",
   "version": "3.7.3"
  }
 },
 "nbformat": 4,
 "nbformat_minor": 2
}
