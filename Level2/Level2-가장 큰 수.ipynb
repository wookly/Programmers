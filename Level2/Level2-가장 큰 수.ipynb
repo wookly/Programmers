{
 "cells": [
  {
   "cell_type": "markdown",
   "metadata": {},
   "source": [
    "가장 큰 수\n",
    "========\n",
    "\n",
    "0 또는 양의 정수가 주어졌을 때, 정수를 이어 붙여 만들 수 있는 가장 큰 수를 알아내 주세요.\n",
    "\n",
    "예를 들어, 주어진 정수가 [6, 10, 2]라면 [6102, 6210, 1062, 1026, 2610, 2106]를 만들 수 있고, 이중 가장 큰 수는 6210입니다.\n",
    "\n",
    "0 또는 양의 정수가 담긴 배열 numbers가 매개변수로 주어질 때, 순서를 재배치하여 만들 수 있는 가장 큰 수를 문자열로 바꾸어 return 하도록 solution 함수를 작성해주세요.\n",
    "\n",
    "> 제한 사항\n",
    "* numbers의 길이는 1 이상 100,000 이하입니다.\n",
    "* numbers의 원소는 0 이상 1,000 이하입니다.\n",
    "* 정답이 너무 클 수 있으니 문자열로 바꾸어 return 합니다.\n",
    "\n",
    "> 입출력 예\n",
    "\n",
    "| numbers | return |\n",
    "| --- | :--- |\n",
    "| [6, 10, 2] | \"6210\" |\n",
    "| [3, 30, 34, 5, 9] | \"9534330\" |\n"
   ]
  },
  {
   "cell_type": "code",
   "execution_count": 27,
   "metadata": {},
   "outputs": [],
   "source": [
    "def solution(numbers):\n",
    "    \n",
    "    strNum = [str(n) for n in numbers]\n",
    "    strNum.sort( key=lambda x: (x*4)[:4], reverse=True )\n",
    "    \n",
    "    if strNum[0] == '0':\n",
    "        return '0'\n",
    "    \n",
    "    return ''.join(strNum)"
   ]
  },
  {
   "cell_type": "code",
   "execution_count": 28,
   "metadata": {},
   "outputs": [
    {
     "data": {
      "text/plain": [
       "'6210'"
      ]
     },
     "execution_count": 28,
     "metadata": {},
     "output_type": "execute_result"
    }
   ],
   "source": [
    "numbers = [6, 10, 2]\n",
    "solution(numbers)"
   ]
  },
  {
   "cell_type": "code",
   "execution_count": 29,
   "metadata": {},
   "outputs": [
    {
     "name": "stdout",
     "output_type": "stream",
     "text": [
      "3333\n",
      "3030\n",
      "3434\n",
      "5555\n",
      "9999\n"
     ]
    }
   ],
   "source": [
    "numbers = [3, 30, 34, 5, 9]\n",
    "\n",
    "strNum = [str(n) for n in numbers]\n",
    "for s in strNum:\n",
    "    print( (s*4)[:4] )"
   ]
  },
  {
   "cell_type": "code",
   "execution_count": 4,
   "metadata": {},
   "outputs": [],
   "source": [
    "from functools import cmp_to_key\n",
    "\n",
    "def sorting(n1, n2):\n",
    "    return  int(n2 + n1) - int(n1 + n2)\n",
    "    \n",
    "def solution(numbers):\n",
    "    numbers = list(map(str, numbers))\n",
    "        \n",
    "    numbers.sort( key = cmp_to_key(sorting) )\n",
    "    return str(int(''.join(numbers)))"
   ]
  },
  {
   "cell_type": "code",
   "execution_count": 3,
   "metadata": {},
   "outputs": [
    {
     "data": {
      "text/plain": [
       "'6210'"
      ]
     },
     "execution_count": 3,
     "metadata": {},
     "output_type": "execute_result"
    }
   ],
   "source": [
    "numbers = [6, 10, 2]\n",
    "solution(numbers)"
   ]
  },
  {
   "cell_type": "code",
   "execution_count": 15,
   "metadata": {},
   "outputs": [
    {
     "name": "stdout",
     "output_type": "stream",
     "text": [
      "['30', '3', '34', '5', '9']\n",
      "3033459\n"
     ]
    }
   ],
   "source": [
    "def strSorting(n1, n2):\n",
    "    return int(n1 + n2) - int(n2 + n1)\n",
    "\n",
    "from functools import cmp_to_key\n",
    "\n",
    "numbers = [3, 30, 34, 5, 9]\n",
    "numbers = list(map(str, numbers))\n",
    "numbers.sort( key=cmp_to_key(strSorting) )\n",
    "\n",
    "print(numbers)\n",
    "print(''.join(numbers))"
   ]
  },
  {
   "cell_type": "code",
   "execution_count": 21,
   "metadata": {},
   "outputs": [],
   "source": [
    "import functools\n",
    "\n",
    "def comparator(a, b):\n",
    "    t1 = str(a) + str(b)\n",
    "    t2 = str(b) + str(a)\n",
    "    return (int(t1) > int(t2)) - (int(t1) < int(t2)) #  t1이 크다면 1  // t2가 크다면 -1  //  같으면 0\n",
    "\n",
    "def solution(numbers):\n",
    "    numbers = sorted(numbers, key = functools.cmp_to_key(lambda a, b: comparator(a, b)), reverse=True)\n",
    "    answer = ''.join(str(x) for x in numbers)\n",
    "    \n",
    "    if int(answer) == 0:\n",
    "        return '0'\n",
    "    \n",
    "    return answer"
   ]
  },
  {
   "cell_type": "code",
   "execution_count": 22,
   "metadata": {},
   "outputs": [
    {
     "data": {
      "text/plain": [
       "'6210'"
      ]
     },
     "execution_count": 22,
     "metadata": {},
     "output_type": "execute_result"
    }
   ],
   "source": [
    "numbers = [6, 10, 2]\n",
    "solution(numbers)"
   ]
  },
  {
   "cell_type": "code",
   "execution_count": null,
   "metadata": {},
   "outputs": [],
   "source": []
  }
 ],
 "metadata": {
  "kernelspec": {
   "display_name": "Python 3",
   "language": "python",
   "name": "python3"
  },
  "language_info": {
   "codemirror_mode": {
    "name": "ipython",
    "version": 3
   },
   "file_extension": ".py",
   "mimetype": "text/x-python",
   "name": "python",
   "nbconvert_exporter": "python",
   "pygments_lexer": "ipython3",
   "version": "3.7.1"
  }
 },
 "nbformat": 4,
 "nbformat_minor": 2
}
