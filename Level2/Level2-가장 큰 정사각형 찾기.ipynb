{
 "cells": [
  {
   "cell_type": "markdown",
   "metadata": {},
   "source": [
    "가장 큰 정사각형 찾기\n",
    "=================\n",
    "문제 설명\n",
    "1와 0로 채워진 표(board)가 있습니다. 표 1칸은 1 x 1 의 정사각형으로 이루어져 있습니다. 표에서 1로 이루어진 가장 큰 정사각형을 찾아 넓이를 return 하는 solution 함수를 완성해 주세요. (단, 정사각형이란 축에 평행한 정사각형을 말합니다.)\n",
    "\n",
    "예를 들어\n",
    "1\t2\t3\t4\n",
    "0\t1\t1\t1\n",
    "1\t1\t1\t1\n",
    "1\t1\t1\t1\n",
    "0\t0\t1\t0\n",
    "가 있다면 가장 큰 정사각형은\n",
    "\n",
    "1\t2\t3\t4\n",
    "0\t1\t1\t1\n",
    "1\t1\t1\t1\n",
    "1\t1\t1\t1\n",
    "0\t0\t1\t0\n",
    "가 되며 넓이는 9가 되므로 9를 반환해 주면 됩니다.\n",
    "\n",
    "> 제한사항\n",
    "* 표(board)는 2차원 배열로 주어집니다.\n",
    "* 표(board)의 행(row)의 크기 : 1,000 이하의 자연수\n",
    "* 표(board)의 열(column)의 크기 : 1,000 이하의 자연수\n",
    "* 표(board)의 값은 1또는 0으로만 이루어져 있습니다.\n",
    "\n",
    "> 입출력 예\n",
    "\n",
    "| board | answer |\n",
    "| --- | :--- |\n",
    "| [[0,1,1,1],[1,1,1,1],[1,1,1,1],[0,0,1,0]] | 9 |\n",
    "| [[0,0,1,1],[1,1,1,1]] | 4 |\n",
    "\n",
    "> 입출력 예 설명\n",
    "* 입출력 예 #1 : 위의 예시와 같습니다.\n",
    "* 입출력 예 #2\n",
    "\n",
    "    | 0 | 0 | 1 | 1 |\n",
    "    | 1 | 1 | 1 | 1 | \n",
    "    로 가장 큰 정사각형의 넓이는 4가 되므로 4를 return합니다."
   ]
  },
  {
   "cell_type": "code",
   "execution_count": 7,
   "metadata": {},
   "outputs": [],
   "source": [
    "def solution(board):\n",
    "    answer = 0\n",
    "    \n",
    "    row = len(board)\n",
    "    col = len(board[0])\n",
    "       \n",
    "    dp = [[0 for _ in range(col+1)] for _ in range(row+1)]\n",
    "    \n",
    "    for i in range(1, row+1):\n",
    "        for j in range(1, col+1):\n",
    "            \n",
    "            if board[i-1][j-1] != 0:\n",
    "                #dp[i][j] = min(dp[i][j-1], min(dp[i-1][j], dp[i-1][j-1])) + 1\n",
    "                dp[i][j] = min( dp[i][j-1], dp[i-1][j], dp[i-1][j-1] ) + 1\n",
    "                answer = max(dp[i][j], answer)\n",
    "    \n",
    "            \n",
    "    return answer * answer"
   ]
  },
  {
   "cell_type": "code",
   "execution_count": 8,
   "metadata": {},
   "outputs": [
    {
     "data": {
      "text/plain": [
       "9"
      ]
     },
     "execution_count": 8,
     "metadata": {},
     "output_type": "execute_result"
    }
   ],
   "source": [
    "board = [[0,1,1,1],[1,1,1,1],[1,1,1,1],[0,0,1,0]]\n",
    "\n",
    "solution(board)"
   ]
  },
  {
   "cell_type": "code",
   "execution_count": null,
   "metadata": {},
   "outputs": [],
   "source": []
  },
  {
   "cell_type": "code",
   "execution_count": null,
   "metadata": {},
   "outputs": [],
   "source": []
  }
 ],
 "metadata": {
  "kernelspec": {
   "display_name": "Python 3",
   "language": "python",
   "name": "python3"
  },
  "language_info": {
   "codemirror_mode": {
    "name": "ipython",
    "version": 3
   },
   "file_extension": ".py",
   "mimetype": "text/x-python",
   "name": "python",
   "nbconvert_exporter": "python",
   "pygments_lexer": "ipython3",
   "version": "3.7.3"
  }
 },
 "nbformat": 4,
 "nbformat_minor": 2
}
