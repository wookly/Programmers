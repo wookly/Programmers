{
 "cells": [
  {
   "cell_type": "markdown",
   "metadata": {},
   "source": [
    "더 맵게\n",
    "======\n",
    "\n",
    "매운 것을 좋아하는 Leo는 모든 음식의 스코빌 지수를 K 이상으로 만들고 싶습니다. 모든 음식의 스코빌 지수를 K 이상으로 만들기 위해 Leo는 스코빌 지수가 가장 낮은 두 개의 음식을 아래와 같이 특별한 방법으로 섞어 새로운 음식을 만듭니다.\n",
    "\n",
    "> 섞은 음식의 스코빌 지수 = 가장 맵지 않은 음식의 스코빌 지수 + (두 번째로 맵지 않은 음식의 스코빌 지수 * 2)\n",
    "\n",
    "Leo는 모든 음식의 스코빌 지수가 K 이상이 될 때까지 반복하여 섞습니다.\n",
    "Leo가 가진 음식의 스코빌 지수를 담은 배열 scoville과 원하는 스코빌 지수 K가 주어질 때, 모든 음식의 스코빌 지수를 K 이상으로 만들기 위해 섞어야 하는 최소 횟수를 return 하도록 solution 함수를 작성해주세요.\n",
    "\n",
    "> 제한 사항\n",
    "* scoville의 길이는 1 이상 1,000,000 이하입니다.\n",
    "* K는 0 이상 1,000,000,000 이하입니다.\n",
    "* scoville의 원소는 각각 0 이상 1,000,000 이하입니다.\n",
    "* 모든 음식의 스코빌 지수를 K 이상으로 만들 수 없는 경우에는 -1을 return 합니다.\n",
    "\n",
    "> 입출력 예\n",
    "\n",
    "| scoville | K | return |\n",
    "| --- | :---: | :--- |\n",
    "| [1, 2, 3, 9, 10, 12] | 7 | 2 |\n",
    "\n",
    "> 입출력 예 설명\n",
    "1. 스코빌 지수가 1인 음식과 2인 음식을 섞으면 음식의 스코빌 지수가 아래와 같이 됩니다.\n",
    "        새로운 음식의 스코빌 지수 = 1 + (2 * 2) = 5\n",
    "        가진 음식의 스코빌 지수 = [5, 3, 9, 10, 12]\n",
    "2. 스코빌 지수가 3인 음식과 5인 음식을 섞으면 음식의 스코빌 지수가 아래와 같이 됩니다.\n",
    "        새로운 음식의 스코빌 지수 = 3 + (5 * 2) = 13\n",
    "        가진 음식의 스코빌 지수 = [13, 9, 10, 12]\n",
    "모든 음식의 스코빌 지수가 7 이상이 되었고 이때 섞은 횟수는 2회입니다."
   ]
  },
  {
   "cell_type": "code",
   "execution_count": 12,
   "metadata": {},
   "outputs": [],
   "source": [
    "import heapq\n",
    "\n",
    "def solution(scoville, K):\n",
    "    answer = 0\n",
    "    heap = []\n",
    "    \n",
    "    if len(scoville) == 1:\n",
    "        if scoville[0] > K:\n",
    "            return 0\n",
    "        else:\n",
    "            return -1\n",
    "    \n",
    "    for i in scoville:\n",
    "        heapq.heappush(heap, i)\n",
    "    \n",
    "    while heap[0] <= K:\n",
    "        \n",
    "        answer += 1\n",
    "        \n",
    "        first = heapq.heappop(heap)\n",
    "        if len(heap) > 0:\n",
    "            second = heapq.heappop(heap)\n",
    "        else:\n",
    "            answer = -1\n",
    "            \n",
    "        heapq.heappush(heap, first+second*2)\n",
    "    \n",
    "    return answer"
   ]
  },
  {
   "cell_type": "code",
   "execution_count": 13,
   "metadata": {},
   "outputs": [
    {
     "data": {
      "text/plain": [
       "2"
      ]
     },
     "execution_count": 13,
     "metadata": {},
     "output_type": "execute_result"
    }
   ],
   "source": [
    "scoville = [1, 2, 3, 9, 10, 12]\n",
    "K = 7\n",
    "\n",
    "solution(scoville, K)"
   ]
  },
  {
   "cell_type": "code",
   "execution_count": 9,
   "metadata": {},
   "outputs": [],
   "source": [
    "import heapq\n",
    "\n",
    "def solution(scoville, K):\n",
    "    answer = 0\n",
    "    heapq.heapify(scoville)\n",
    "    \n",
    "    while True:\n",
    "        \n",
    "        min1 = heapq.heappop(scoville)\n",
    "        \n",
    "        if min1 >= K:\n",
    "            break\n",
    "        elif len(scoville) == 0:\n",
    "            answer = -1\n",
    "            break\n",
    "\n",
    "        min2 = heapq.heappop(scoville)\n",
    "        new_scoville = min1 + 2*min2\n",
    "        heapq.heappush(scoville, new_scoville)\n",
    "        answer += 1\n",
    "        \n",
    "    return answer"
   ]
  },
  {
   "cell_type": "code",
   "execution_count": null,
   "metadata": {},
   "outputs": [],
   "source": []
  }
 ],
 "metadata": {
  "kernelspec": {
   "display_name": "Python 3",
   "language": "python",
   "name": "python3"
  },
  "language_info": {
   "codemirror_mode": {
    "name": "ipython",
    "version": 3
   },
   "file_extension": ".py",
   "mimetype": "text/x-python",
   "name": "python",
   "nbconvert_exporter": "python",
   "pygments_lexer": "ipython3",
   "version": "3.7.1"
  }
 },
 "nbformat": 4,
 "nbformat_minor": 2
}
