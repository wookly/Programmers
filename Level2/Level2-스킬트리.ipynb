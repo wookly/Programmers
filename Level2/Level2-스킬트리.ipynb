{
 "cells": [
  {
   "cell_type": "markdown",
   "metadata": {},
   "source": [
    "스킬트리\n",
    "=======\n",
    "\n",
    "#### 선행 스킬이란 어떤 스킬을 배우기 전에 먼저 배워야 하는 스킬을 뜻합니다.\n",
    "#### 예를 들어 선행 스킬 순서가 스파크 → 라이트닝 볼트 → 썬더일때, 썬더를 배우려면 먼저 라이트닝 볼트를 배워야 하고, 라이트닝 볼트를 배우려면 먼저 스파크를 배워야 합니다.\n",
    "#### 위 순서에 없는 다른 스킬(힐링 등)은 순서에 상관없이 배울 수 있습니다. 따라서 스파크 → 힐링 → 라이트닝 볼트 → 썬더와 같은 스킬트리는 가능하지만, 썬더 → 스파크나 라이트닝 볼트 → 스파크 → 힐링 → 썬더와 같은 스킬트리는 불가능합니다.\n",
    "#### 선행 스킬 순서 skill과 유저들이 만든 스킬트리를 담은 배열 skill_trees가 매개변수로 주어질 때, 가능한 스킬트리 개수를 return 하는 solution 함수를 작성해주세요.\n",
    "\n",
    "> 제한 조건\n",
    "* 스킬은 알파벳 대문자로 표기하며, 모든 문자열은 알파벳 대문자로만 이루어져 있습니다.\n",
    "* 스킬 순서와 스킬트리는 문자열로 표기합니다.\n",
    "* 예를 들어, C → B → D 라면 CBD로 표기합니다\n",
    "* 선행 스킬 순서 skill의 길이는 2 이상 26 이하이며, 스킬은 중복해 주어지지 않습니다.\n",
    "* skill_trees는 길이 1 이상 20 이하인 배열입니다.\n",
    "* skill_trees의 원소는 스킬을 나타내는 문자열입니다.\n",
    "* skill_trees의 원소는 길이가 2 이상 26 이하인 문자열이며, 스킬이 중복해 주어지지 않습니다.\n",
    "\n",
    "> 입출력 예\n",
    "\n",
    "| skill | skill_trees | return |\n",
    "|---|:---:|:---|\n",
    "| \"CBD\" | [\"BACDE\", \"CBADF\", \"AECB\", \"BDA\"] | 2 |\n",
    "\n",
    "> 입출력 예 설명\n",
    "* BACDE: B 스킬을 배우기 전에 C 스킬을 먼저 배워야 합니다. 불가능한 스킬트립니다.\n",
    "* CBADF: 가능한 스킬트리입니다.\n",
    "* AECB: 가능한 스킬트리입니다.\n",
    "* BDA: B 스킬을 배우기 전에 C 스킬을 먼저 배워야 합니다. 불가능한 스킬트리입니다.\n",
    "\n",
    "스킬 트리: 유저가 스킬을 배울 순서"
   ]
  },
  {
   "cell_type": "code",
   "execution_count": 14,
   "metadata": {},
   "outputs": [],
   "source": [
    "def solution(skill, skill_trees):\n",
    "    \n",
    "    answer = 0\n",
    "    skill_list = list(skill)\n",
    "    for skill_tree in skill_trees:\n",
    "        temp = []\n",
    "        for i in skill_list:\n",
    "            index = skill_tree.find(i)\n",
    "            if index == -1:\n",
    "                temp.append(21)\n",
    "            else:\n",
    "                temp.append(index)\n",
    "\n",
    "        print(temp, sorted(temp))\n",
    "        if temp == sorted(temp):\n",
    "            answer += 1\n",
    "\n",
    "    return answer"
   ]
  },
  {
   "cell_type": "code",
   "execution_count": 15,
   "metadata": {},
   "outputs": [
    {
     "name": "stdout",
     "output_type": "stream",
     "text": [
      "[2, 0, 3] [0, 2, 3]\n",
      "[0, 1, 3] [0, 1, 3]\n",
      "[2, 3, 21] [2, 3, 21]\n",
      "[21, 0, 1] [0, 1, 21]\n"
     ]
    },
    {
     "data": {
      "text/plain": [
       "2"
      ]
     },
     "execution_count": 15,
     "metadata": {},
     "output_type": "execute_result"
    }
   ],
   "source": [
    "skill = \"CBD\"\n",
    "skill_trees = [\"BACDE\", \"CBADF\", \"AECB\", \"BDA\"]\n",
    "solution(skill, skill_trees)"
   ]
  },
  {
   "cell_type": "code",
   "execution_count": 19,
   "metadata": {},
   "outputs": [
    {
     "name": "stdout",
     "output_type": "stream",
     "text": [
      "['B', 'C', 'D']\n",
      "['C', 'B', 'D']\n",
      "['C', 'B']\n",
      "['B', 'D']\n",
      "2\n"
     ]
    }
   ],
   "source": [
    "skill = \"CBD\"\n",
    "skill_trees = ['BACDE', 'CBADF', 'AECB', 'BDA']\n",
    "\n",
    "answer = 0\n",
    "skill_list = list(skill)\n",
    "for skill_tree in skill_trees:\n",
    "    check_list = [x for x in skill_tree if x in skill_list]\n",
    "    print(check_list)\n",
    "    if check_list == skill_list[:len(check_list)]:\n",
    "        answer += 1\n",
    "        \n",
    "print(answer)"
   ]
  },
  {
   "cell_type": "code",
   "execution_count": 48,
   "metadata": {},
   "outputs": [
    {
     "name": "stdout",
     "output_type": "stream",
     "text": [
      "['BCD', 'CBD', 'CB', 'BD']\n",
      "[0, 1, 1, 0]\n"
     ]
    },
    {
     "data": {
      "text/plain": [
       "2"
      ]
     },
     "execution_count": 48,
     "metadata": {},
     "output_type": "execute_result"
    }
   ],
   "source": [
    "skill = \"CBD\"\n",
    "skill_trees = ['BACDE', 'CBADF', 'AECB', 'BDA']\n",
    "\n",
    "check_list = [ ''.join([x for x in skill_tree if x in skill]) for skill_tree in skill_trees]\n",
    "print(check_list)\n",
    "\n",
    "print( list(map(lambda x: 1 if skill[:len(x)] == x else 0, check_list)) )\n",
    "sum( map(lambda x: 1 if skill[:len(x)] == x else 0, check_list) )"
   ]
  },
  {
   "cell_type": "code",
   "execution_count": 41,
   "metadata": {},
   "outputs": [
    {
     "name": "stdout",
     "output_type": "stream",
     "text": [
      "2\n"
     ]
    }
   ],
   "source": [
    "skill = \"CBD\"\n",
    "skill_trees = ['BACDE', 'CBADF', 'AECB', 'BDA']\n",
    "\n",
    "answer = 0\n",
    "\n",
    "for skill_tree in skill_trees:\n",
    "    skill_list = list(skill)\n",
    "    \n",
    "    for s in skill_tree:\n",
    "        if s in skill_list:\n",
    "            if s != skill_list.pop(0):\n",
    "                break\n",
    "    else:\n",
    "        answer += 1\n",
    "\n",
    "print(answer)"
   ]
  },
  {
   "cell_type": "markdown",
   "metadata": {},
   "source": [
    "### for-else 문\n",
    "> for문 수행 도중 break문을 만나지 않았다면 for문 종료 이후 else문이 실행 된다."
   ]
  },
  {
   "cell_type": "code",
   "execution_count": null,
   "metadata": {},
   "outputs": [],
   "source": []
  }
 ],
 "metadata": {
  "kernelspec": {
   "display_name": "Python 3",
   "language": "python",
   "name": "python3"
  },
  "language_info": {
   "codemirror_mode": {
    "name": "ipython",
    "version": 3
   },
   "file_extension": ".py",
   "mimetype": "text/x-python",
   "name": "python",
   "nbconvert_exporter": "python",
   "pygments_lexer": "ipython3",
   "version": "3.7.1"
  }
 },
 "nbformat": 4,
 "nbformat_minor": 2
}
