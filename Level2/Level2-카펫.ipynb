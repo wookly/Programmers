{
 "cells": [
  {
   "attachments": {
    "image.png": {
     "image/png": "[encoded data removed]"
    }
   },
   "cell_type": "markdown",
   "metadata": {},
   "source": [
    "카펫\n",
    "====\n",
    "Leo는 카펫을 사러 갔다가 아래 그림과 같이 중앙에는 빨간색으로 칠해져 있고 모서리는 갈색으로 칠해져 있는 격자 모양 카펫을 봤습니다.\n",
    "\n",
    "![image.png](attachment:image.png)\n",
    "\n",
    "Leo는 집으로 돌아와서 아까 본 카펫의 빨간색과 갈색으로 색칠된 격자의 개수는 기억했지만, 전체 카펫의 크기는 기억하지 못했습니다.\n",
    "\n",
    "Leo가 본 카펫에서 갈색 격자의 수 brown, 빨간색 격자의 수 red가 매개변수로 주어질 때 카펫의 가로, 세로 크기를 순서대로 배열에 담아 return 하도록 solution 함수를 작성해주세요.\n",
    "\n",
    "> 제한사항\n",
    "* 갈색 격자의 수 brown은 8 이상 5,000 이하인 자연수입니다.\n",
    "* 빨간색 격자의 수 red는 1 이상 2,000,000 이하인 자연수입니다.\n",
    "* 카펫의 가로 길이는 세로 길이와 같거나, 세로 길이보다 깁니다.\n",
    "\n",
    "> 입출력 예\n",
    "\n",
    "| brown | red | return |\n",
    "| --- | --- | --- |\n",
    "| 10 | 2 | [4, 3] |\n",
    "| 8 | 1 | [3, 3] |\n",
    "| 24 | 24 | [8, 6] |"
   ]
  },
  {
   "cell_type": "code",
   "execution_count": 1,
   "metadata": {},
   "outputs": [],
   "source": [
    "def solution(brown, red):\n",
    "    answer = []\n",
    "\n",
    "    total = brown + red\n",
    "    for i in range(3, total+1):\n",
    "        \n",
    "        if total % i == 0:\n",
    "            \n",
    "            j = sum // i\n",
    "            if (i-2) * (j-2) == red:\n",
    "                print(i, j, red)\n",
    "                answer.append(j)\n",
    "                answer.append(i)\n",
    "\n",
    "    return answer"
   ]
  },
  {
   "cell_type": "code",
   "execution_count": 2,
   "metadata": {},
   "outputs": [
    {
     "ename": "TypeError",
     "evalue": "unsupported operand type(s) for //: 'builtin_function_or_method' and 'int'",
     "output_type": "error",
     "traceback": [
      "\u001b[1;31m---------------------------------------------------------------------------\u001b[0m",
      "\u001b[1;31mTypeError\u001b[0m                                 Traceback (most recent call last)",
      "\u001b[1;32m<ipython-input-2-1cb31399b11b>\u001b[0m in \u001b[0;36m<module>\u001b[1;34m\u001b[0m\n\u001b[0;32m      2\u001b[0m \u001b[0mred\u001b[0m \u001b[1;33m=\u001b[0m \u001b[1;36m2\u001b[0m\u001b[1;33m\u001b[0m\u001b[1;33m\u001b[0m\u001b[0m\n\u001b[0;32m      3\u001b[0m \u001b[1;33m\u001b[0m\u001b[0m\n\u001b[1;32m----> 4\u001b[1;33m \u001b[0msolution\u001b[0m\u001b[1;33m(\u001b[0m\u001b[0mbrown\u001b[0m\u001b[1;33m,\u001b[0m \u001b[0mred\u001b[0m\u001b[1;33m)\u001b[0m\u001b[1;33m\u001b[0m\u001b[1;33m\u001b[0m\u001b[0m\n\u001b[0m",
      "\u001b[1;32m<ipython-input-1-9fe87caad783>\u001b[0m in \u001b[0;36msolution\u001b[1;34m(brown, red)\u001b[0m\n\u001b[0;32m      7\u001b[0m         \u001b[1;32mif\u001b[0m \u001b[0mtotal\u001b[0m \u001b[1;33m%\u001b[0m \u001b[0mi\u001b[0m \u001b[1;33m==\u001b[0m \u001b[1;36m0\u001b[0m\u001b[1;33m:\u001b[0m\u001b[1;33m\u001b[0m\u001b[1;33m\u001b[0m\u001b[0m\n\u001b[0;32m      8\u001b[0m \u001b[1;33m\u001b[0m\u001b[0m\n\u001b[1;32m----> 9\u001b[1;33m             \u001b[0mj\u001b[0m \u001b[1;33m=\u001b[0m \u001b[0msum\u001b[0m \u001b[1;33m//\u001b[0m \u001b[0mi\u001b[0m\u001b[1;33m\u001b[0m\u001b[1;33m\u001b[0m\u001b[0m\n\u001b[0m\u001b[0;32m     10\u001b[0m             \u001b[1;32mif\u001b[0m \u001b[1;33m(\u001b[0m\u001b[0mi\u001b[0m\u001b[1;33m-\u001b[0m\u001b[1;36m2\u001b[0m\u001b[1;33m)\u001b[0m \u001b[1;33m*\u001b[0m \u001b[1;33m(\u001b[0m\u001b[0mj\u001b[0m\u001b[1;33m-\u001b[0m\u001b[1;36m2\u001b[0m\u001b[1;33m)\u001b[0m \u001b[1;33m==\u001b[0m \u001b[0mred\u001b[0m\u001b[1;33m:\u001b[0m\u001b[1;33m\u001b[0m\u001b[1;33m\u001b[0m\u001b[0m\n\u001b[0;32m     11\u001b[0m                 \u001b[0mprint\u001b[0m\u001b[1;33m(\u001b[0m\u001b[0mi\u001b[0m\u001b[1;33m,\u001b[0m \u001b[0mj\u001b[0m\u001b[1;33m,\u001b[0m \u001b[0mred\u001b[0m\u001b[1;33m)\u001b[0m\u001b[1;33m\u001b[0m\u001b[1;33m\u001b[0m\u001b[0m\n",
      "\u001b[1;31mTypeError\u001b[0m: unsupported operand type(s) for //: 'builtin_function_or_method' and 'int'"
     ]
    }
   ],
   "source": [
    "brown = 10\n",
    "red = 2\n",
    "\n",
    "solution(brown, red)"
   ]
  },
  {
   "cell_type": "markdown",
   "metadata": {},
   "source": [
    "완전 탐색(exhaustive search)를 이용하여 푸는 문제입니다. \n",
    "\n",
    "빨간색의 가로를 A, 세로를 B라고 했을 때, \n",
    "주어진 값 red는 A*B가 되고 brown은 2(A+B)+4가 됩니다. \n",
    "\n",
    "이제 A와 B에 찾는 과정입니다. \n",
    "red를 두 자연수 곱의 쌍으로 봤을 때, 중복된 곱의 쌍을 없엔다면 A의 범위는 red의 제곱근의 내림값보다 작거나 같을 것입니다. \n",
    "이를 통해 얻은 자연수 A와 B의 쌍이 brown에 값에도 맞는 지 확인하면 문제는 마무리됩니다."
   ]
  },
  {
   "cell_type": "code",
   "execution_count": 6,
   "metadata": {},
   "outputs": [],
   "source": [
    "def solution(brown, red):\n",
    "    for a in range(1, int(red**0.5)+1):\n",
    "        if red % a == 0:\n",
    "            b = red // a\n",
    "            if 2*a + 2*b + 4 == brown:\n",
    "                return [b+2, a+2]"
   ]
  },
  {
   "cell_type": "code",
   "execution_count": 9,
   "metadata": {},
   "outputs": [],
   "source": [
    "def solution(brown, red):\n",
    "    nm = brown + red\n",
    "    for n in range(1, nm+1):\n",
    "        if nm % n != 0:\n",
    "            continue\n",
    "        m = nm // n\n",
    "        if (n-2)*(m-2) == red:\n",
    "            return sorted([n, m], reverse=True)"
   ]
  },
  {
   "cell_type": "code",
   "execution_count": 10,
   "metadata": {},
   "outputs": [
    {
     "data": {
      "text/plain": [
       "[4, 3]"
      ]
     },
     "execution_count": 10,
     "metadata": {},
     "output_type": "execute_result"
    }
   ],
   "source": [
    "brown = 10\n",
    "red = 2\n",
    "\n",
    "solution(brown, red)"
   ]
  },
  {
   "cell_type": "code",
   "execution_count": 5,
   "metadata": {},
   "outputs": [
    {
     "data": {
      "text/plain": [
       "2"
      ]
     },
     "execution_count": 5,
     "metadata": {},
     "output_type": "execute_result"
    }
   ],
   "source": [
    "int(2**0.5)+1"
   ]
  },
  {
   "cell_type": "code",
   "execution_count": null,
   "metadata": {},
   "outputs": [],
   "source": [
    "for i in range(1, int(red**0.5)+1):\n",
    "    if not red % i:\n",
    "        red // i"
   ]
  },
  {
   "cell_type": "code",
   "execution_count": 10,
   "metadata": {},
   "outputs": [
    {
     "name": "stdout",
     "output_type": "stream",
     "text": [
      "[4, 3]\n"
     ]
    }
   ],
   "source": [
    "answer = []\n",
    "sum = brown + red\n",
    "#limit = int(sqrt(sum))\n",
    "limit = int(sum**0.5)\n",
    "\n",
    "for i in range(3, limit+1):\n",
    "    if sum % i == 0:\n",
    "        a = sum // i\n",
    "        if (a-2) * (i-2) == red:\n",
    "            answer.append(a)\n",
    "            answer.append(i)\n",
    "            \n",
    "print(answer)"
   ]
  },
  {
   "cell_type": "code",
   "execution_count": null,
   "metadata": {},
   "outputs": [],
   "source": []
  }
 ],
 "metadata": {
  "kernelspec": {
   "display_name": "Python 3",
   "language": "python",
   "name": "python3"
  },
  "language_info": {
   "codemirror_mode": {
    "name": "ipython",
    "version": 3
   },
   "file_extension": ".py",
   "mimetype": "text/x-python",
   "name": "python",
   "nbconvert_exporter": "python",
   "pygments_lexer": "ipython3",
   "version": "3.7.3"
  }
 },
 "nbformat": 4,
 "nbformat_minor": 2
}
