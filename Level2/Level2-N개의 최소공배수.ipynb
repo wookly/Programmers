{
 "cells": [
  {
   "cell_type": "markdown",
   "metadata": {},
   "source": [
    "N개의 최소공배수\n",
    "=============\n",
    "\n",
    "두 수의 최소공배수(Least Common Multiple)란 입력된 두 수의 배수 중 공통이 되는 가장 작은 숫자를 의미합니다. 예를 들어 2와 7의 최소공배수는 14가 됩니다. 정의를 확장해서, n개의 수의 최소공배수는 n 개의 수들의 배수 중 공통이 되는 가장 작은 숫자가 됩니다. n개의 숫자를 담은 배열 arr이 입력되었을 때 이 수들의 최소공배수를 반환하는 함수, solution을 완성해 주세요.\n",
    "\n",
    "> 제한 사항\n",
    "* arr은 길이 1이상, 15이하인 배열입니다.\n",
    "* arr의 원소는 100 이하인 자연수입니다.\n",
    "\n",
    "> 입출력 예\n",
    "\n",
    "| arr | result |\n",
    "| --- | :--- |\n",
    "| [2,6,8,14] | 168 |\n",
    "| [1,2,3] | 6 |"
   ]
  },
  {
   "cell_type": "code",
   "execution_count": 6,
   "metadata": {},
   "outputs": [],
   "source": [
    "def gcd(x, y):\n",
    "    if x < y: x, y = y, x\n",
    "        \n",
    "    while y:\n",
    "        x, y = y, x%y\n",
    "        \n",
    "    return x\n",
    "\n",
    "def lcm(x, y):\n",
    "    return x*y // gcd(x, y)\n",
    "\n",
    "def solution(arr):\n",
    "    answer = arr[0]\n",
    "    \n",
    "    for i in range(1, len(arr)):\n",
    "        answer = lcm( answer, arr[i] )\n",
    "    \n",
    "    return answer"
   ]
  },
  {
   "cell_type": "code",
   "execution_count": 7,
   "metadata": {},
   "outputs": [
    {
     "data": {
      "text/plain": [
       "168"
      ]
     },
     "execution_count": 7,
     "metadata": {},
     "output_type": "execute_result"
    }
   ],
   "source": [
    "#arr = [1, 2, 3]\n",
    "arr = [2,6,8,14]\n",
    "\n",
    "solution(arr)"
   ]
  },
  {
   "cell_type": "code",
   "execution_count": null,
   "metadata": {},
   "outputs": [],
   "source": []
  },
  {
   "cell_type": "code",
   "execution_count": null,
   "metadata": {},
   "outputs": [],
   "source": []
  }
 ],
 "metadata": {
  "kernelspec": {
   "display_name": "Python 3",
   "language": "python",
   "name": "python3"
  },
  "language_info": {
   "codemirror_mode": {
    "name": "ipython",
    "version": 3
   },
   "file_extension": ".py",
   "mimetype": "text/x-python",
   "name": "python",
   "nbconvert_exporter": "python",
   "pygments_lexer": "ipython3",
   "version": "3.7.3"
  }
 },
 "nbformat": 4,
 "nbformat_minor": 2
}
