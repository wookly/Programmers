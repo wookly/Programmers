{
 "cells": [
  {
   "cell_type": "markdown",
   "metadata": {},
   "source": [
    "124 나라의 숫자\n",
    "============\n",
    "\n",
    "124 나라가 있습니다. 124 나라에서는 10진법이 아닌 다음과 같은 자신들만의 규칙으로 수를 표현합니다.\n",
    "\n",
    "    - 124 나라에는 자연수만 존재합니다.\n",
    "    - 124 나라에는 모든 수를 표현할 때 1, 2, 4만 사용합니다.\n",
    "\n",
    "예를 들어서 124 나라에서 사용하는 숫자는 다음과 같이 변환됩니다.\n",
    "\n",
    "| 10진법 | 124 나라 |\n",
    "|---|:---|\n",
    "| 1\t| 1 |\n",
    "| 2\t| 2\t|\n",
    "| 3\t| 4\t|\n",
    "| 4\t| 11 |\n",
    "| 5\t| 12 |\n",
    "| 6 | 14 |\n",
    "| 7\t| 21 |\n",
    "| 8\t| 22 |\n",
    "| 9 | 24 |\n",
    "| 10 | 41 |\n",
    "\n",
    "자연수 n이 매개변수로 주어질 때, n을 124 나라에서 사용하는 숫자로 바꾼 값을 return 하도록 solution 함수를 완성해 주세요.\n",
    "\n",
    "> 제한사항\n",
    "* n은 500,000,000이하의 자연수 입니다.\n",
    "\n",
    "> 입출력 예\n",
    "\n",
    "| n | result |\n",
    "| --- |:---|\n",
    "| 1 | 1 |\n",
    "| 2 | 2 |\n",
    "| 3 | 4 |\n",
    "| 4\t| 11 |"
   ]
  },
  {
   "cell_type": "code",
   "execution_count": 32,
   "metadata": {},
   "outputs": [],
   "source": [
    "def solution(n):\n",
    "    answer = []\n",
    "    temp = ['4', '1', '2']\n",
    "\n",
    "    while n > 0:\n",
    "\n",
    "        if n % 3 == 0:\n",
    "            n -= 1\n",
    "            answer.append(temp[0])\n",
    "        elif n % 3 == 1:\n",
    "            answer.append(temp[1])\n",
    "        else:\n",
    "            answer.append(temp[2])\n",
    "\n",
    "        n = n // 3\n",
    "\n",
    "    answer.reverse()\n",
    "    \n",
    "    return ''.join(answer)"
   ]
  },
  {
   "cell_type": "code",
   "execution_count": 33,
   "metadata": {},
   "outputs": [
    {
     "data": {
      "text/plain": [
       "'41'"
      ]
     },
     "execution_count": 33,
     "metadata": {},
     "output_type": "execute_result"
    }
   ],
   "source": [
    "n = 10\n",
    "solution(n)"
   ]
  },
  {
   "cell_type": "code",
   "execution_count": 38,
   "metadata": {},
   "outputs": [
    {
     "name": "stdout",
     "output_type": "stream",
     "text": [
      "41\n"
     ]
    }
   ],
   "source": [
    "n = 10\n",
    "answer = []\n",
    "\n",
    "while n > 0:\n",
    "    \n",
    "    i = n % 3\n",
    "    n = n // 3\n",
    "\n",
    "    if i == 1 or i == 2:\n",
    "        answer.append(str(i))\n",
    "    elif i == 0:\n",
    "        if n > 0:\n",
    "            n -= 1\n",
    "        answer.append('4')\n",
    "\n",
    "answer.reverse()\n",
    "\n",
    "print(''.join(answer))"
   ]
  },
  {
   "cell_type": "code",
   "execution_count": 42,
   "metadata": {},
   "outputs": [
    {
     "name": "stdout",
     "output_type": "stream",
     "text": [
      "41\n"
     ]
    }
   ],
   "source": [
    "n = 10\n",
    "num = ['1','2','4']\n",
    "answer = \"\"\n",
    "\n",
    "while n > 0:\n",
    "    n -= 1\n",
    "    answer = num[n % 3] + answer\n",
    "    n //= 3\n",
    "\n",
    "print(answer)"
   ]
  },
  {
   "cell_type": "code",
   "execution_count": 46,
   "metadata": {},
   "outputs": [],
   "source": [
    "def change124(n):\n",
    "    if n <= 3:\n",
    "        return '124'[n-1]\n",
    "    else:\n",
    "        q, r = divmod( n-1, 3 )         \n",
    "        return change124(q) + '124'[r]"
   ]
  },
  {
   "cell_type": "code",
   "execution_count": 47,
   "metadata": {},
   "outputs": [
    {
     "data": {
      "text/plain": [
       "'41'"
      ]
     },
     "execution_count": 47,
     "metadata": {},
     "output_type": "execute_result"
    }
   ],
   "source": [
    "n = 10\n",
    "answer = \"0\"\n",
    "['4', '1', '2'][n % 3] if n < 4 else change124((n-1)//3) + ['4', '1', '2'][n % 3]"
   ]
  },
  {
   "cell_type": "code",
   "execution_count": null,
   "metadata": {},
   "outputs": [],
   "source": []
  }
 ],
 "metadata": {
  "kernelspec": {
   "display_name": "Python 3",
   "language": "python",
   "name": "python3"
  },
  "language_info": {
   "codemirror_mode": {
    "name": "ipython",
    "version": 3
   },
   "file_extension": ".py",
   "mimetype": "text/x-python",
   "name": "python",
   "nbconvert_exporter": "python",
   "pygments_lexer": "ipython3",
   "version": "3.7.4"
  }
 },
 "nbformat": 4,
 "nbformat_minor": 4
}
