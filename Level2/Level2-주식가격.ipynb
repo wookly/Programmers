{
 "cells": [
  {
   "cell_type": "markdown",
   "metadata": {},
   "source": [
    "주식가격\n",
    "=======\n",
    "초 단위로 기록된 주식가격이 담긴 배열 prices가 매개변수로 주어질 때, 가격이 떨어지지 않은 기간은 몇 초인지를 return 하도록 solution 함수를 완성하세요.\n",
    "\n",
    "> 제한사항\n",
    "* prices의 각 가격은 1 이상 10,000 이하인 자연수입니다.\n",
    "* prices의 길이는 2 이상 100,000 이하입니다.\n",
    "\n",
    "> 입출력 예\n",
    "\n",
    "| prices | return |\n",
    "| ------- | :------ |\n",
    "| [1, 2, 3, 2, 3] | [4, 3, 1, 1, 0] |\n",
    "\n",
    "> 입출력 예 설명\n",
    "* 1초 시점의 ₩1은 끝까지 가격이 떨어지지 않았습니다.\n",
    "* 2초 시점의 ₩2은 끝까지 가격이 떨어지지 않았습니다.\n",
    "* 3초 시점의 ₩3은 1초뒤에 가격이 떨어집니다. 따라서 1초간 가격이 떨어지지 않은 것으로 봅니다.\n",
    "* 4초 시점의 ₩2은 1초간 가격이 떨어지지 않았습니다.\n",
    "* 5초 시점의 ₩3은 0초간 가격이 떨어지지 않았습니다."
   ]
  },
  {
   "cell_type": "code",
   "execution_count": 11,
   "metadata": {},
   "outputs": [],
   "source": [
    "def solution(prices):\n",
    "    answer = [0] * len(prices)\n",
    "\n",
    "    for i in range(len(prices)):\n",
    "        for j in range(i+1, len(prices)):\n",
    "\n",
    "            if prices[i] <= prices[j]:\n",
    "                answer[i] += 1\n",
    "            else:\n",
    "                answer[i] += 1\n",
    "                break\n",
    "    \n",
    "    return answer"
   ]
  },
  {
   "cell_type": "code",
   "execution_count": 12,
   "metadata": {},
   "outputs": [
    {
     "data": {
      "text/plain": [
       "[4, 3, 1, 1, 0]"
      ]
     },
     "execution_count": 12,
     "metadata": {},
     "output_type": "execute_result"
    }
   ],
   "source": [
    "prices = [1, 2, 3, 2, 3]\n",
    "solution(prices)"
   ]
  },
  {
   "cell_type": "code",
   "execution_count": 15,
   "metadata": {},
   "outputs": [],
   "source": [
    "from collections import deque\n",
    "\n",
    "def solution(prices):\n",
    "    answer = []\n",
    "    priceQueue = deque(prices)\n",
    "    while priceQueue:\n",
    "        p = priceQueue.popleft()\n",
    "        cnt = 0\n",
    "        for v in priceQueue:\n",
    "            if p > v:\n",
    "                cnt += 1\n",
    "                break\n",
    "            cnt += 1\n",
    "        answer.append(cnt)\n",
    "    return answer"
   ]
  },
  {
   "cell_type": "code",
   "execution_count": null,
   "metadata": {},
   "outputs": [],
   "source": []
  },
  {
   "cell_type": "code",
   "execution_count": null,
   "metadata": {},
   "outputs": [],
   "source": []
  }
 ],
 "metadata": {
  "kernelspec": {
   "display_name": "Python 3",
   "language": "python",
   "name": "python3"
  },
  "language_info": {
   "codemirror_mode": {
    "name": "ipython",
    "version": 3
   },
   "file_extension": ".py",
   "mimetype": "text/x-python",
   "name": "python",
   "nbconvert_exporter": "python",
   "pygments_lexer": "ipython3",
   "version": "3.7.1"
  }
 },
 "nbformat": 4,
 "nbformat_minor": 2
}
