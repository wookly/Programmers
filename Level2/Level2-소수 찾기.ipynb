{
 "cells": [
  {
   "cell_type": "markdown",
   "metadata": {},
   "source": [
    "소수 찾기\n",
    "=======\n",
    "\n",
    "한자리 숫자가 적힌 종이 조각이 흩어져있습니다. 흩어진 종이 조각을 붙여 소수를 몇 개 만들 수 있는지 알아내려 합니다.\n",
    "\n",
    "각 종이 조각에 적힌 숫자가 적힌 문자열 numbers가 주어졌을 때, 종이 조각으로 만들 수 있는 소수가 몇 개인지 return 하도록 solution 함수를 완성해주세요.\n",
    "\n",
    "> 제한사항\n",
    "* numbers는 길이 1 이상 7 이하인 문자열입니다.\n",
    "* numbers는 0~9까지 숫자만으로 이루어져 있습니다.\n",
    "* 013은 0, 1, 3 숫자가 적힌 종이 조각이 흩어져있다는 의미입니다.\n",
    "\n",
    "> 입출력 예\n",
    "\n",
    "| numbers | return |\n",
    "| --- | :--- |\n",
    "| '17' | 3 |\n",
    "| '011' | 2 |\n",
    "\n",
    "> 입출력 예 설명\n",
    "* 예제 #1 : [1, 7]으로는 소수 [7, 17, 71]를 만들 수 있습니다.\n",
    "* 예제 #2 : [0, 1, 1]으로는 소수 [11, 101]를 만들 수 있습니다. 11과 011은 같은 숫자로 취급합니다."
   ]
  },
  {
   "cell_type": "code",
   "execution_count": 120,
   "metadata": {},
   "outputs": [],
   "source": [
    "def isPrimeNumber(number):\n",
    "    \n",
    "    if number <= 1:\n",
    "        return False\n",
    "    else:\n",
    "        for i in range(2, number // 2 + 1):\n",
    "            if number % i == 0:\n",
    "                return False\n",
    "        return True"
   ]
  },
  {
   "cell_type": "code",
   "execution_count": 122,
   "metadata": {},
   "outputs": [],
   "source": [
    "def isPrime(n):\n",
    "        \n",
    "    if n == 0 or n == 1: return False\n",
    "    if n == 2: return True\n",
    "    \n",
    "    for i in range(2, n):\n",
    "        if n % i == 0:\n",
    "            return False\n",
    "\n",
    "    return True\n",
    "\n",
    "from itertools import permutations\n",
    "\n",
    "def solution(numbers):\n",
    "    cnt = 0\n",
    "    tempSet = set()    \n",
    "    numList = list(numbers)\n",
    "    \n",
    "    for i in range(1, len(numbers)+1):\n",
    "        perm = list(permutations( numList, i ))\n",
    "        for p in perm:\n",
    "            tempSet.add( int(\"\".join(list(p))) )\n",
    "            \n",
    "    for i in tempSet:\n",
    "        if isPrime(i) == True:\n",
    "            cnt += 1\n",
    "            \n",
    "    return cnt"
   ]
  },
  {
   "cell_type": "code",
   "execution_count": 67,
   "metadata": {},
   "outputs": [
    {
     "data": {
      "text/plain": [
       "3"
      ]
     },
     "execution_count": 67,
     "metadata": {},
     "output_type": "execute_result"
    }
   ],
   "source": [
    "numbers = \"17\"\n",
    "\n",
    "solution(numbers)"
   ]
  },
  {
   "cell_type": "code",
   "execution_count": 126,
   "metadata": {},
   "outputs": [
    {
     "name": "stdout",
     "output_type": "stream",
     "text": [
      "[('1',), ('7',)]\n",
      "[('1', '7'), ('7', '1')]\n",
      "{1, 71, 17, 7}\n",
      "3\n"
     ]
    }
   ],
   "source": [
    "from itertools import permutations\n",
    "\n",
    "numbers = \"17\"\n",
    "numList = list(numbers)\n",
    "numList\n",
    "cnt = 0\n",
    "tempSet = set()\n",
    "\n",
    "for i in range(1, len(numbers)+1):\n",
    "    perm = list(permutations( numList, i ))\n",
    "    print(perm)\n",
    "    for p in perm:\n",
    "        tempSet.add( int(\"\".join(list(p))) )\n",
    "        \n",
    "print(tempSet)\n",
    "\n",
    "for i in tempSet:\n",
    "    if isPrime(i) == True:\n",
    "        cnt += 1\n",
    "        \n",
    "print(cnt)"
   ]
  },
  {
   "cell_type": "code",
   "execution_count": 69,
   "metadata": {},
   "outputs": [],
   "source": [
    "from itertools import permutations\n",
    "\n",
    "def solution(n):\n",
    "    a = set()\n",
    "    for i in range(len(n)):\n",
    "        a |= set(map(int, map(\"\".join, permutations(list(n), i+1))))\n",
    "        \n",
    "    a -= set(range(0, 2))\n",
    "    \n",
    "    for i in range(2, int(max(a) ** 0.5) + 1):\n",
    "        a -= set(range(i * 2, max(a) + 1, i))\n",
    "        \n",
    "    return len(a)"
   ]
  },
  {
   "cell_type": "code",
   "execution_count": 143,
   "metadata": {},
   "outputs": [
    {
     "name": "stdout",
     "output_type": "stream",
     "text": [
      "{101, 10, 11, 110}\n",
      "{101, 11} 2\n"
     ]
    }
   ],
   "source": [
    "n = '011'\n",
    "a = set()\n",
    "for i in range(len(n)):\n",
    "    tempList = list( map(''.join, permutations(list(n), i+1)) )\n",
    "    a |= set(map(int, tempList))\n",
    "    \n",
    "a -= {0, 1}\n",
    "print(a)\n",
    "\n",
    "for i in range(2, int(max(a)**0.5) + 1):\n",
    "    a -= set(range(i*2, max(a)+1, i)) \n",
    "    \n",
    "print(a, len(a))"
   ]
  },
  {
   "cell_type": "code",
   "execution_count": null,
   "metadata": {},
   "outputs": [],
   "source": []
  },
  {
   "cell_type": "code",
   "execution_count": null,
   "metadata": {},
   "outputs": [],
   "source": []
  },
  {
   "cell_type": "code",
   "execution_count": null,
   "metadata": {},
   "outputs": [],
   "source": []
  }
 ],
 "metadata": {
  "kernelspec": {
   "display_name": "Python 3",
   "language": "python",
   "name": "python3"
  },
  "language_info": {
   "codemirror_mode": {
    "name": "ipython",
    "version": 3
   },
   "file_extension": ".py",
   "mimetype": "text/x-python",
   "name": "python",
   "nbconvert_exporter": "python",
   "pygments_lexer": "ipython3",
   "version": "3.7.1"
  }
 },
 "nbformat": 4,
 "nbformat_minor": 2
}
