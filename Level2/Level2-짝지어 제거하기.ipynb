{
 "cells": [
  {
   "cell_type": "markdown",
   "metadata": {},
   "source": [
    "짝지어 제거하기\n",
    "=============\n",
    "\n",
    "짝지어 제거하기는, 알파벳 소문자로 이루어진 문자열을 가지고 시작합니다. 먼저 문자열에서 같은 알파벳이 2개 붙어 있는 짝을 찾습니다. 그다음, 그 둘을 제거한 뒤, 앞뒤로 문자열을 이어 붙입니다. 이 과정을 반복해서 문자열을 모두 제거한다면 짝지어 제거하기가 종료됩니다. 문자열 S가 주어졌을 때, 짝지어 제거하기를 성공적으로 수행할 수 있는지 반환하는 함수를 완성해 주세요. 성공적으로 수행할 수 있으면 1을, 아닐 경우 0을 리턴해주면 됩니다.\n",
    "\n",
    "예를 들어, 문자열 S = baabaa 라면\n",
    "\n",
    "b aa baa → bb aa → aa →\n",
    "\n",
    "의 순서로 문자열을 모두 제거할 수 있으므로 1을 반환합니다.\n",
    "\n",
    "> 제한사항\n",
    "* 문자열의 길이 : 1,000,000이하의 자연수\n",
    "* 문자열은 모두 소문자로 이루어져 있습니다.\n",
    "\n",
    "> 입출력 예\n",
    "\n",
    "| s | result |\n",
    "| --- | --- |\n",
    "| baabaa | 1 |\n",
    "| cdcd | 0 |\n",
    "\n",
    "> 입출력 예 설명 : \n",
    "* 입출력 예 #1 : 위의 예시와 같습니다.\n",
    "* 입출력 예 #2 : 문자열이 남아있지만 짝지어 제거할 수 있는 문자열이 더 이상 존재하지 않기 때문에 0을 반환합니다."
   ]
  },
  {
   "cell_type": "code",
   "execution_count": 20,
   "metadata": {},
   "outputs": [],
   "source": [
    "def solution(s):\n",
    "    answer = 0\n",
    "    stack = list()\n",
    "\n",
    "    for i in range(len(s)):\n",
    "        stack.append(s[i])\n",
    "        if len(stack) > 1:\n",
    "            if stack[-1] == stack[-2]:\n",
    "                stack.pop()\n",
    "                stack.pop()\n",
    "                \n",
    "    if len(stack) == 0:\n",
    "        return 1\n",
    "    else:\n",
    "        return 0"
   ]
  },
  {
   "cell_type": "code",
   "execution_count": 23,
   "metadata": {},
   "outputs": [
    {
     "data": {
      "text/plain": [
       "1"
      ]
     },
     "execution_count": 23,
     "metadata": {},
     "output_type": "execute_result"
    }
   ],
   "source": [
    "s = 'baabaa'\n",
    "#s = 'cdcd'\n",
    "\n",
    "solution(s)"
   ]
  },
  {
   "cell_type": "code",
   "execution_count": 26,
   "metadata": {},
   "outputs": [
    {
     "name": "stdout",
     "output_type": "stream",
     "text": [
      "[] 0\n"
     ]
    }
   ],
   "source": [
    "s = 'baabaa'\n",
    "\n",
    "stack = []\n",
    "i = 0\n",
    "\n",
    "while i != len(s):\n",
    "    \n",
    "    stack.append(s[i])\n",
    "    i += 1\n",
    "    \n",
    "    if len(stack) > 1:\n",
    "        if (stack[-1] == stack[-2]):\n",
    "            stack.pop()\n",
    "            stack.pop()      \n",
    "\n",
    "print(stack, len(stack))\n",
    "# if len(answer_list)==0:\n",
    "#     return 1\n",
    "# else:\n",
    "#     return 0\n"
   ]
  },
  {
   "cell_type": "code",
   "execution_count": 27,
   "metadata": {},
   "outputs": [
    {
     "name": "stdout",
     "output_type": "stream",
     "text": [
      "True\n"
     ]
    }
   ],
   "source": [
    "s = 'baabaa'\n",
    "answer = []\n",
    "\n",
    "for i in s:\n",
    "    if not(answer):\n",
    "        answer.append(i)\n",
    "    else:\n",
    "        if answer[-1] == i:\n",
    "            answer.pop()\n",
    "        else:\n",
    "            answer.append(i)\n",
    "            \n",
    "print(not(answer))"
   ]
  },
  {
   "cell_type": "code",
   "execution_count": 2,
   "metadata": {},
   "outputs": [
    {
     "name": "stdout",
     "output_type": "stream",
     "text": [
      "True\n"
     ]
    }
   ],
   "source": [
    "def solution(s):\n",
    "\n",
    "    stack = []\n",
    "    for i in s:\n",
    "    \n",
    "        if not stack:\n",
    "            stack.append(i)\n",
    "        else:\n",
    "            if stack[-1] == i:\n",
    "                stack.pop()\n",
    "            else:\n",
    "                stack.append(i)\n",
    "        \n",
    "    return not stack\n",
    "\n",
    "s = 'baabaa'\n",
    "#s = 'cdcd'\n",
    "\n",
    "print( solution(s) )"
   ]
  },
  {
   "cell_type": "code",
   "execution_count": null,
   "metadata": {},
   "outputs": [],
   "source": []
  }
 ],
 "metadata": {
  "kernelspec": {
   "display_name": "Python 3",
   "language": "python",
   "name": "python3"
  },
  "language_info": {
   "codemirror_mode": {
    "name": "ipython",
    "version": 3
   },
   "file_extension": ".py",
   "mimetype": "text/x-python",
   "name": "python",
   "nbconvert_exporter": "python",
   "pygments_lexer": "ipython3",
   "version": "3.7.3"
  }
 },
 "nbformat": 4,
 "nbformat_minor": 2
}
