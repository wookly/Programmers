{
 "cells": [
  {
   "cell_type": "markdown",
   "metadata": {},
   "source": [
    "기능개발\n",
    "=======\n",
    "\n",
    "프로그래머스 팀에서는 기능 개선 작업을 수행 중입니다. 각 기능은 진도가 100%일 때 서비스에 반영할 수 있습니다.\n",
    "\n",
    "또, 각 기능의 개발속도는 모두 다르기 때문에 뒤에 있는 기능이 앞에 있는 기능보다 먼저 개발될 수 있고, 이때 뒤에 있는 기능은 앞에 있는 기능이 배포될 때 함께 배포됩니다.\n",
    "\n",
    "먼저 배포되어야 하는 순서대로 작업의 진도가 적힌 정수 배열 progresses와 각 작업의 개발 속도가 적힌 정수 배열 speeds가 주어질 때 각 배포마다 몇 개의 기능이 배포되는지를 return 하도록 solution 함수를 완성하세요.\n",
    "\n",
    "> 제한 사항\n",
    "* 작업의 개수(progresses, speeds배열의 길이)는 100개 이하입니다.\n",
    "* 작업 진도는 100 미만의 자연수입니다.\n",
    "* 작업 속도는 100 이하의 자연수입니다.\n",
    "* 배포는 하루에 한 번만 할 수 있으며, 하루의 끝에 이루어진다고 가정합니다. 예를 들어 진도율이 95%인 작업의 개발 속도가 하루에 4%라면 배포는 2일 뒤에 이루어집니다.\n",
    "\n",
    "> 입출력 예\n",
    "\n",
    "| progresses | speeds | return |\n",
    "| --- | :---: | :--- |\n",
    "| [93,30,55] | [1,30,5] | [2,1] |\n",
    "\n",
    "> 입출력 예 설명\n",
    "* 첫 번째 기능은 93% 완료되어 있고 하루에 1%씩 작업이 가능하므로 7일간 작업 후 배포가 가능합니다.\n",
    "두 번째 기능은 30%가 완료되어 있고 하루에 30%씩 작업이 가능하므로 3일간 작업 후 배포가 가능합니다. 하지만 이전 첫 번째 기능이 아직 완성된 상태가 아니기 때문에 첫 번째 기능이 배포되는 7일째 배포됩니다.\n",
    "세 번째 기능은 55%가 완료되어 있고 하루에 5%씩 작업이 가능하므로 9일간 작업 후 배포가 가능합니다.\n",
    "* 따라서 7일째에 2개의 기능, 9일째에 1개의 기능이 배포됩니다."
   ]
  },
  {
   "cell_type": "code",
   "execution_count": 19,
   "metadata": {},
   "outputs": [],
   "source": [
    "def solution(progresses, speeds):\n",
    "    answer = []\n",
    "    day = 1\n",
    "    cnt = 0\n",
    "    \n",
    "    while len(progresses) > 0:\n",
    "        \n",
    "        if progresses[0] + speeds[0]*day >= 100:\n",
    "            progresses.pop(0)\n",
    "            speeds.pop(0)\n",
    "            cnt += 1\n",
    "        else:\n",
    "            if cnt > 0:\n",
    "                answer.append(cnt)\n",
    "                cnt = 0\n",
    "            day += 1            \n",
    "\n",
    "    answer.append(cnt)\n",
    "    return answer"
   ]
  },
  {
   "cell_type": "code",
   "execution_count": 20,
   "metadata": {},
   "outputs": [
    {
     "data": {
      "text/plain": [
       "[2, 1]"
      ]
     },
     "execution_count": 20,
     "metadata": {},
     "output_type": "execute_result"
    }
   ],
   "source": [
    "# progresses = [40, 93, 30, 55, 60, 65]\n",
    "# speeds = [60, 1, 30, 5 , 10, 7]\n",
    "\n",
    "# progresses = [93, 30, 55, 60, 40, 65]\n",
    "# speeds = [1, 30, 5 , 10, 60, 7]\n",
    "\n",
    "progresses = [93,30,55]\n",
    "speeds = [1,30,5]\n",
    "\n",
    "solution(progresses, speeds)"
   ]
  },
  {
   "cell_type": "code",
   "execution_count": 17,
   "metadata": {},
   "outputs": [],
   "source": [
    "def solution(progresses, speeds):\n",
    "    answer = []\n",
    "    print(progresses, speeds)\n",
    "    day = 1\n",
    "    cnt = 0\n",
    "    while len(progresses) > 0:\n",
    "        \n",
    "        if progresses[0] + speeds[0]*day >= 100:\n",
    "            progresses.pop(0)\n",
    "            speeds.pop(0)\n",
    "            cnt += 1\n",
    "        else:\n",
    "            if cnt > 0:\n",
    "                answer.append(cnt)\n",
    "                cnt = 0\n",
    "            day += 1\n",
    "        \n",
    "    answer.append(cnt)\n",
    "    return answer"
   ]
  },
  {
   "cell_type": "code",
   "execution_count": 18,
   "metadata": {},
   "outputs": [
    {
     "name": "stdout",
     "output_type": "stream",
     "text": [
      "[93, 30, 55] [1, 30, 5]\n"
     ]
    },
    {
     "data": {
      "text/plain": [
       "[2, 1]"
      ]
     },
     "execution_count": 18,
     "metadata": {},
     "output_type": "execute_result"
    }
   ],
   "source": [
    "progresses = [93,30,55]\n",
    "speeds = [1,30,5]\n",
    "\n",
    "solution(progresses, speeds)"
   ]
  },
  {
   "cell_type": "code",
   "execution_count": null,
   "metadata": {},
   "outputs": [],
   "source": []
  }
 ],
 "metadata": {
  "kernelspec": {
   "display_name": "Python 3",
   "language": "python",
   "name": "python3"
  },
  "language_info": {
   "codemirror_mode": {
    "name": "ipython",
    "version": 3
   },
   "file_extension": ".py",
   "mimetype": "text/x-python",
   "name": "python",
   "nbconvert_exporter": "python",
   "pygments_lexer": "ipython3",
   "version": "3.7.1"
  }
 },
 "nbformat": 4,
 "nbformat_minor": 2
}
