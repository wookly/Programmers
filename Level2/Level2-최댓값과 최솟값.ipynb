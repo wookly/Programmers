{
 "cells": [
  {
   "cell_type": "markdown",
   "metadata": {},
   "source": [
    "최댓값과 최솟값\n",
    "=============\n",
    "\n",
    "문자열 s에는 공백으로 구분된 숫자들이 저장되어 있습니다. str에 나타나는 숫자 중 최소값과 최대값을 찾아 이를 (최소값) (최대값)형태의 문자열을 반환하는 함수, solution을 완성하세요.\n",
    "예를들어 s가 1 2 3 4라면 1 4를 리턴하고, -1 -2 -3 -4라면 -4 -1을 리턴하면 됩니다.\n",
    "\n",
    "> 제한 조건\n",
    "* s에는 둘 이상의 정수가 공백으로 구분되어 있습니다.\n",
    "\n",
    "> 입출력 예\n",
    "\n",
    "| s\t| return |\n",
    "| --- | :--- |\n",
    "| \"1 2 3 4\" | \"1 4\" |\n",
    "| \"-1 -2 -3 -4 \" | \"-4 -1\" |\n",
    "| \"-1 -1\" | \"-1 -1\" |"
   ]
  },
  {
   "cell_type": "code",
   "execution_count": 24,
   "metadata": {},
   "outputs": [],
   "source": [
    "def solution(s):\n",
    "    answer = ''\n",
    "    \n",
    "    s_list = list(map(int, s.split()))\n",
    "    print(s_list)\n",
    "    \n",
    "    return \"\".join(str(min(s_list))+' '+str(max(s_list)))"
   ]
  },
  {
   "cell_type": "code",
   "execution_count": 25,
   "metadata": {},
   "outputs": [
    {
     "name": "stdout",
     "output_type": "stream",
     "text": [
      "[-1, -2, -3, -4]\n"
     ]
    },
    {
     "data": {
      "text/plain": [
       "'-4 -1'"
      ]
     },
     "execution_count": 25,
     "metadata": {},
     "output_type": "execute_result"
    }
   ],
   "source": [
    "s = \"-1 -2 -3 -4\"\n",
    "solution(s)"
   ]
  },
  {
   "cell_type": "code",
   "execution_count": 32,
   "metadata": {},
   "outputs": [
    {
     "data": {
      "text/plain": [
       "'-4 -1'"
      ]
     },
     "execution_count": 32,
     "metadata": {},
     "output_type": "execute_result"
    }
   ],
   "source": [
    "s = \"-1 -2 -3 -4\"\n",
    "\n",
    "s_list = []\n",
    "for i in s.split():\n",
    "    s_list.append(int(i))\n",
    "    \n",
    "''.join( str(min(s_list)) + ' ' + str(max(s_list)) )"
   ]
  },
  {
   "cell_type": "code",
   "execution_count": null,
   "metadata": {},
   "outputs": [],
   "source": []
  }
 ],
 "metadata": {
  "kernelspec": {
   "display_name": "Python 3",
   "language": "python",
   "name": "python3"
  },
  "language_info": {
   "codemirror_mode": {
    "name": "ipython",
    "version": 3
   },
   "file_extension": ".py",
   "mimetype": "text/x-python",
   "name": "python",
   "nbconvert_exporter": "python",
   "pygments_lexer": "ipython3",
   "version": "3.7.3"
  }
 },
 "nbformat": 4,
 "nbformat_minor": 2
}
