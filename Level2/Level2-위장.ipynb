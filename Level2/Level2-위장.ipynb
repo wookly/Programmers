{
 "cells": [
  {
   "cell_type": "markdown",
   "metadata": {},
   "source": [
    "위장\n",
    "====\n",
    "스파이들은 매일 다른 옷을 조합하여 입어 자신을 위장합니다.\n",
    "\n",
    "예를 들어 스파이가 가진 옷이 아래와 같고 오늘 스파이가 동그란 안경, 긴 코트, 파란색 티셔츠를 입었다면 다음날은 청바지를 추가로 입거나 동그란 안경 대신 검정 선글라스를 착용하거나 해야 합니다.\n",
    "\n",
    "| 종류 | 이름 |\n",
    "| --- | :--- |\n",
    "| 얼굴 | 동그란 안경, 검정 선글라스 |\n",
    "| 상의 | 파란색 티셔츠 |\n",
    "| 하의 | 청바지 |\n",
    "| 겉옷 | 긴 코트 |\n",
    "\n",
    "스파이가 가진 의상들이 담긴 2차원 배열 clothes가 주어질 때 서로 다른 옷의 조합의 수를 return 하도록 solution 함수를 작성해주세요.\n",
    "\n",
    "> 제한사항\n",
    "* clothes의 각 행은 [의상의 이름, 의상의 종류]로 이루어져 있습니다.\n",
    "* 스파이가 가진 의상의 수는 1개 이상 30개 이하입니다.\n",
    "* 같은 이름을 가진 의상은 존재하지 않습니다.\n",
    "* clothes의 모든 원소는 문자열로 이루어져 있습니다.\n",
    "* 모든 문자열의 길이는 1 이상 20 이하인 자연수이고 알파벳 소문자 또는 '_' 로만 이루어져 있습니다.\n",
    "* 스파이는 하루에 최소 한 개의 의상은 입습니다.\n",
    "\n",
    "> 입출력 예\n",
    "\n",
    "| clothes | return |\n",
    "| -------- | :-------- |\n",
    "| [[yellow_hat, headgear], [blue_sunglasses, eyewear], [green_turban, headgear]] | 5 |\n",
    "| [[crow_mask, face], [blue_sunglasses, face], [smoky_makeup, face]] | 3 |\n",
    "\n",
    "> 입출력 예 설명\n",
    "* 예제 #1 : headgear에 해당하는 의상이 yellowhat, greenturban이고 eyewear에 해당하는 의상이 blue_sunglasses이므로 아래와 같이 5개의 조합이 가능합니다.\n",
    "\n",
    "    1. yellow_hat\n",
    "    2. blue_sunglasses\n",
    "    3. green_turban\n",
    "    4. yellow_hat + blue_sunglasses\n",
    "    5. green_turban + blue_sunglasses\n",
    "\n",
    ">* 예제 #2 : face에 해당하는 의상이 crowmask, bluesunglasses, smoky_makeup이므로 아래와 같이 3개의 조합이 가능합니다.\n",
    "\n",
    "    1. crow_mask\n",
    "    2. blue_sunglasses\n",
    "    3. smoky_makeup"
   ]
  },
  {
   "cell_type": "code",
   "execution_count": 32,
   "metadata": {},
   "outputs": [],
   "source": [
    "from collections import Counter\n",
    "\n",
    "def solution(clothes):\n",
    "    cnt = 1\n",
    "    \n",
    "    CategoryCounter = Counter( [j for i, j in clothes] )\n",
    "    print(CategoryCounter)\n",
    "    \n",
    "    for key in CategoryCounter:\n",
    "        cnt *= (CategoryCounter[key] + 1)\n",
    "        \n",
    "    return cnt-1"
   ]
  },
  {
   "cell_type": "code",
   "execution_count": 33,
   "metadata": {},
   "outputs": [
    {
     "name": "stdout",
     "output_type": "stream",
     "text": [
      "Counter({'headgear': 2, 'eyewear': 1})\n"
     ]
    },
    {
     "data": {
      "text/plain": [
       "5"
      ]
     },
     "execution_count": 33,
     "metadata": {},
     "output_type": "execute_result"
    }
   ],
   "source": [
    "clothes = [[\"yellow_hat\", \"headgear\"], [\"blue_sunglasses\", \"eyewear\"], [\"green_turban\", \"headgear\"]]\n",
    "solution(clothes)"
   ]
  },
  {
   "cell_type": "code",
   "execution_count": 42,
   "metadata": {},
   "outputs": [
    {
     "name": "stdout",
     "output_type": "stream",
     "text": [
      "{'headgear': ['yellow_hat', 'green_turban'], 'eyewear': ['blue_sunglasses']}\n",
      "5\n"
     ]
    }
   ],
   "source": [
    "clothes = [[\"yellow_hat\", \"headgear\"], [\"blue_sunglasses\", \"eyewear\"], [\"green_turban\", \"headgear\"]]\n",
    "\n",
    "cnt = 1\n",
    "CategoryDic = {}\n",
    "for i, j in clothes:\n",
    "    \n",
    "    if j in CategoryDic:\n",
    "        CategoryDic[j].append(i)\n",
    "    else:\n",
    "        CategoryDic[j] = [i]\n",
    "        \n",
    "print(CategoryDic)\n",
    "\n",
    "for key in CategoryDic.keys():\n",
    "    cnt *= (len(CategoryDic[key]) + 1)\n",
    "    \n",
    "print(cnt-1)"
   ]
  },
  {
   "cell_type": "code",
   "execution_count": null,
   "metadata": {},
   "outputs": [],
   "source": []
  }
 ],
 "metadata": {
  "kernelspec": {
   "display_name": "Python 3",
   "language": "python",
   "name": "python3"
  },
  "language_info": {
   "codemirror_mode": {
    "name": "ipython",
    "version": 3
   },
   "file_extension": ".py",
   "mimetype": "text/x-python",
   "name": "python",
   "nbconvert_exporter": "python",
   "pygments_lexer": "ipython3",
   "version": "3.7.3"
  }
 },
 "nbformat": 4,
 "nbformat_minor": 2
}
