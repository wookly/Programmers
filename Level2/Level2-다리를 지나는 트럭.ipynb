{
 "cells": [
  {
   "attachments": {},
   "cell_type": "markdown",
   "metadata": {},
   "source": [
    "다리를 지나는 트럭\n",
    "===============\n",
    "\n",
    "트럭 여러 대가 강을 가로지르는 일 차선 다리를 정해진 순으로 건너려 합니다. 모든 트럭이 다리를 건너려면 최소 몇 초가 걸리는지 알아내야 합니다. 트럭은 1초에 1만큼 움직이며, 다리 길이는 bridge_length이고 다리는 무게 weight까지 견딥니다.\n",
    "※ 트럭이 다리에 완전히 오르지 않은 경우, 이 트럭의 무게는 고려하지 않습니다.\n",
    "\n",
    "예를 들어, 길이가 2이고 10kg 무게를 견디는 다리가 있습니다. 무게가 [7, 4, 5, 6]kg인 트럭이 순서대로 최단 시간 안에 다리를 건너려면 다음과 같이 건너야 합니다.\n",
    "\n",
    "| 경과 시간\t| 다리를 지난 트럭\t| 다리를 건너는 트럭 | 대기 트럭 |\n",
    "| --- | :---: | :---: | :--- |\n",
    "| 0 | [] | [] | [7,4,5,6] |\n",
    "| 1~2 |\t[] | [7] | [4,5,6] |\n",
    "| 3 | [7] | [4] | [5,6] |\n",
    "| 4 | [7] | [4,5] | [6] |\n",
    "| 5 | [7,4] | [5] | [6] |\n",
    "| 6~7 | [7,4,5] | [6] | [] |\n",
    "| 8 | [7,4,5,6] | [] | [] |\n",
    "\n",
    "따라서, 모든 트럭이 다리를 지나려면 최소 8초가 걸립니다.\n",
    "\n",
    "solution 함수의 매개변수로 다리 길이 bridgelength, 다리가 견딜 수 있는 무게 weight, 트럭별 무게 truckweights가 주어집니다. 이때 모든 트럭이 다리를 건너려면 최소 몇 초가 걸리는지 return 하도록 solution 함수를 완성하세요.\n",
    "\n",
    "> 제한 조건\n",
    "* bridge_length는 1 이상 10,000 이하입니다.\n",
    "* weight는 1 이상 10,000 이하입니다.\n",
    "* truck_weights의 길이는 1 이상 10,000 이하입니다.\n",
    "* 모든 트럭의 무게는 1 이상 weight 이하입니다.\n",
    "\n",
    "> 입출력 예\n",
    "\n",
    "| bridge_length | weight | truck_weights | return |\n",
    "| --- | :---: | :---: | :--- |\n",
    "| 2 | 10 | [7,4,5,6] | 8 |\n",
    "| 100 | 100 | [10] | 101 |\n",
    "| 100 |\t100 | [10,10,10,10,10,10,10,10,10,10] | 110 |"
   ]
  },
  {
   "cell_type": "code",
   "execution_count": 35,
   "metadata": {},
   "outputs": [],
   "source": [
    "def solution(bridge_length, weight, truck_weights):\n",
    "    \n",
    "    time = 0    \n",
    "    bridge_queue = [0]*bridge_length\n",
    "    \n",
    "    while bridge_queue:\n",
    "        \n",
    "        time += 1\n",
    "        bridge_queue.pop(0)\n",
    "                \n",
    "        if truck_weights:\n",
    "            if sum(bridge_queue) + truck_weights[0] <= weight:\n",
    "                 bridge_queue.append(truck_weights.pop(0))\n",
    "            else:\n",
    "                 bridge_queue.append(0)\n",
    "                    \n",
    "        print(len(bridge_queue), bridge_queue)\n",
    "\n",
    "    return time"
   ]
  },
  {
   "cell_type": "code",
   "execution_count": 38,
   "metadata": {},
   "outputs": [
    {
     "name": "stdout",
     "output_type": "stream",
     "text": [
      "init:bridge_queue [0, 0]\n",
      "2 [0, 7]\n",
      "2 [7, 0]\n",
      "2 [0, 4]\n",
      "2 [4, 5]\n",
      "2 [5, 0]\n",
      "2 [0, 6]\n",
      "1 [6]\n",
      "0 []\n"
     ]
    },
    {
     "data": {
      "text/plain": [
       "8"
      ]
     },
     "execution_count": 38,
     "metadata": {},
     "output_type": "execute_result"
    }
   ],
   "source": [
    "bridge_length = 2\n",
    "weight = 10\n",
    "truck_weights = [7,4,5,6]\n",
    "#8\n",
    "\n",
    "# bridge_length = 100\n",
    "# weight = 100\n",
    "# truck_weights = [10]\n",
    "# 101\n",
    "\n",
    "# bridge_length = 100\n",
    "# weight = 100\n",
    "# truck_weights = [10,10,10,10,10,10,10,10,10,10]\n",
    "# 110\n",
    "\n",
    "solution(bridge_length, weight, truck_weights)"
   ]
  },
  {
   "cell_type": "code",
   "execution_count": 40,
   "metadata": {},
   "outputs": [],
   "source": [
    "def solution(bridge_length, weight, truck_weights):\n",
    "    \n",
    "    time = 1\n",
    "    total_weights = 0\n",
    "    arrived_truck = []\n",
    "    bridge_truck = []\n",
    "    trucks = len(truck_weights)\n",
    "    \n",
    "    while len(arrived_truck) != trucks:\n",
    "        \n",
    "        while len(truck_weights) > 0 and weight >= (total_weights + truck_weights[0]):\n",
    "            total_weights += truck_weights[0]\n",
    "            bridge_truck.append( truck_weights.pop(0) )\n",
    "        \n",
    "        for i in range(len(bridge_truck)):\n",
    "            total_weights -= bridge_truck[0]\n",
    "            arrived_truck.append( bridge_truck.pop(0) )\n",
    "\n",
    "            if i == 0 : time += bridge_length\n",
    "            else: time += 1\n",
    "                \n",
    "    return time"
   ]
  },
  {
   "cell_type": "code",
   "execution_count": 41,
   "metadata": {},
   "outputs": [
    {
     "data": {
      "text/plain": [
       "8"
      ]
     },
     "execution_count": 41,
     "metadata": {},
     "output_type": "execute_result"
    }
   ],
   "source": [
    "bridge_length = 2\n",
    "weight = 10\n",
    "truck_weights = [7,4,5,6]\n",
    "\n",
    "solution(bridge_length, weight, truck_weights)"
   ]
  },
  {
   "cell_type": "code",
   "execution_count": null,
   "metadata": {},
   "outputs": [],
   "source": []
  },
  {
   "cell_type": "code",
   "execution_count": null,
   "metadata": {},
   "outputs": [],
   "source": []
  }
 ],
 "metadata": {
  "kernelspec": {
   "display_name": "Python 3",
   "language": "python",
   "name": "python3"
  },
  "language_info": {
   "codemirror_mode": {
    "name": "ipython",
    "version": 3
   },
   "file_extension": ".py",
   "mimetype": "text/x-python",
   "name": "python",
   "nbconvert_exporter": "python",
   "pygments_lexer": "ipython3",
   "version": "3.7.1"
  }
 },
 "nbformat": 4,
 "nbformat_minor": 2
}
