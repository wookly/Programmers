{
 "cells": [
  {
   "cell_type": "markdown",
   "metadata": {},
   "source": [
    "구명보트\n",
    "=======\n",
    "\n",
    "무인도에 갇힌 사람들을 구명보트를 이용하여 구출하려고 합니다. \n",
    "구명보트는 작아서 한 번에 최대 2명씩 밖에 탈 수 없고, 무게 제한도 있습니다.\n",
    "\n",
    "예를 들어, 사람들의 몸무게가 \n",
    "[70kg, 50kg, 80kg, 50kg]이고 \n",
    "구명보트의 무게 제한이 100kg이라면 2번째 사람과 4번째 사람은 같이 탈 수 있지만 \n",
    "1번째 사람과 3번째 사람의 무게의 합은 150kg이므로 구명보트의 무게 제한을 초과하여 같이 탈 수 없습니다.\n",
    "\n",
    "구명보트를 최대한 적게 사용하여 모든 사람을 구출하려고 합니다.\n",
    "\n",
    "사람들의 몸무게를 담은 배열 people과 \n",
    "구명보트의 무게 제한 limit가 매개변수로 주어질 때, \n",
    "모든 사람을 구출하기 위해 필요한 구명보트 개수의 최솟값을 return 하도록 solution 함수를 작성해주세요.\n",
    "\n",
    "> 제한사항\n",
    "* 무인도에 갇힌 사람은 1명 이상 50,000명 이하입니다.\n",
    "* 각 사람의 몸무게는 40kg 이상 240kg 이하입니다.\n",
    "* 구명보트의 무게 제한은 40kg 이상 240kg 이하입니다.\n",
    "* 구명보트의 무게 제한은 항상 사람들의 몸무게 중 최댓값보다 크게 주어지므로 사람들을 구출할 수 없는 경우는 없습니다.\n",
    "\n",
    "> 입출력 예\n",
    "\n",
    "| people | limit | return |\n",
    "| --- | :---: | :---: |\n",
    "| [70, 50, 80, 50] | 100 | 3 |\n",
    "| [70, 80, 50] | 100 | 3 |"
   ]
  },
  {
   "cell_type": "code",
   "execution_count": 29,
   "metadata": {},
   "outputs": [],
   "source": [
    "def solution(people, limit):\n",
    "\n",
    "    people.sort()\n",
    "    cnt = 0\n",
    "    i = 0\n",
    "    for j in range(len(people)-1, i, -1):\n",
    "        if i >= j:\n",
    "            break\n",
    "        \n",
    "        if people[i] + people[j] <= limit:\n",
    "            cnt += 1\n",
    "            i += 1\n",
    "    \n",
    "    return len(people)-cnt"
   ]
  },
  {
   "cell_type": "code",
   "execution_count": 30,
   "metadata": {},
   "outputs": [
    {
     "data": {
      "text/plain": [
       "3"
      ]
     },
     "execution_count": 30,
     "metadata": {},
     "output_type": "execute_result"
    }
   ],
   "source": [
    "people = [70, 50, 80, 50]\n",
    "#people = [70, 80, 50]\n",
    "limit = 100\n",
    "\n",
    "solution(people, limit)"
   ]
  },
  {
   "cell_type": "code",
   "execution_count": 26,
   "metadata": {},
   "outputs": [],
   "source": [
    "def solution(people, limit):\n",
    "    \n",
    "    people.sort()\n",
    "    length = len(people)\n",
    "    i = 0\n",
    "    j = length - 1\n",
    "    cnt = 0\n",
    "    \n",
    "    while i < j:\n",
    "        \n",
    "        if people[i] + people[j] <= limit:\n",
    "            cnt += 1\n",
    "            i += 1\n",
    "            \n",
    "        j -= 1\n",
    "            \n",
    "    return length - cnt"
   ]
  },
  {
   "cell_type": "code",
   "execution_count": 27,
   "metadata": {},
   "outputs": [
    {
     "data": {
      "text/plain": [
       "3"
      ]
     },
     "execution_count": 27,
     "metadata": {},
     "output_type": "execute_result"
    }
   ],
   "source": [
    "people = [70, 50, 80, 50]\n",
    "#people = [70, 80, 50]\n",
    "limit = 100\n",
    "\n",
    "solution(people, limit)"
   ]
  },
  {
   "cell_type": "code",
   "execution_count": 31,
   "metadata": {},
   "outputs": [],
   "source": [
    "def solution(people, limit):\n",
    "    \n",
    "    answer = 0\n",
    "    people.sort(reverse=True)\n",
    "    length = len(people)-1\n",
    "    count = 0\n",
    "    \n",
    "    for i in range(length):\n",
    "        \n",
    "        if i >= length:\n",
    "            break\n",
    "            \n",
    "        if people[i] + people[length] <= limit:\n",
    "            length -= 1\n",
    "            count += 1\n",
    "            \n",
    "    return len(people) - count"
   ]
  },
  {
   "cell_type": "code",
   "execution_count": null,
   "metadata": {},
   "outputs": [],
   "source": []
  },
  {
   "cell_type": "code",
   "execution_count": null,
   "metadata": {},
   "outputs": [],
   "source": []
  },
  {
   "cell_type": "code",
   "execution_count": null,
   "metadata": {},
   "outputs": [],
   "source": []
  },
  {
   "cell_type": "code",
   "execution_count": null,
   "metadata": {},
   "outputs": [],
   "source": []
  }
 ],
 "metadata": {
  "kernelspec": {
   "display_name": "Python 3",
   "language": "python",
   "name": "python3"
  },
  "language_info": {
   "codemirror_mode": {
    "name": "ipython",
    "version": 3
   },
   "file_extension": ".py",
   "mimetype": "text/x-python",
   "name": "python",
   "nbconvert_exporter": "python",
   "pygments_lexer": "ipython3",
   "version": "3.7.1"
  }
 },
 "nbformat": 4,
 "nbformat_minor": 2
}
