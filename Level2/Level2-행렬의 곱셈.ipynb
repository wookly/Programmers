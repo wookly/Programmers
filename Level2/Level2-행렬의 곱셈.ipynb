{
 "cells": [
  {
   "cell_type": "markdown",
   "metadata": {},
   "source": [
    "행렬의 곱셈\n",
    "=========\n",
    "2차원 행렬 arr1과 arr2를 입력받아, arr1에 arr2를 곱한 결과를 반환하는 함수, solution을 완성해주세요.\n",
    "\n",
    "> 제한 조건\n",
    "* 행렬 arr1, arr2의 행과 열의 길이는 2 이상 100 이하입니다.\n",
    "* 행렬 arr1, arr2의 원소는 -10 이상 20 이하인 자연수입니다.\n",
    "* 곱할 수 있는 배열만 주어집니다.\n",
    "\n",
    "> 입출력 예\n",
    "\n",
    "| arr1 | arr2 | return |\n",
    "| --- | :---: | :--- |\n",
    "| [[1, 4], [3, 2], [4, 1]] | [[3, 3], [3, 3]] | [[15, 15], [15, 15], [15, 15]] |\n",
    "| [[2, 3, 2], [4, 2, 4], [3, 1, 4]],| [[5, 4, 3], [2, 4, 1], [3, 1, 1]] |\t[[22, 22, 11], [36, 28, 18], [29, 20, 14]] |"
   ]
  },
  {
   "cell_type": "code",
   "execution_count": 34,
   "metadata": {},
   "outputs": [],
   "source": [
    "def solution(arr1, arr2):\n",
    "    \n",
    "    ansRow = len(arr1)\n",
    "    ansCol = len(arr2[0])\n",
    "    ans = [[0 for _ in range(ansCol)] for _ in range(ansRow)]\n",
    "    \n",
    "    for i in range(ansRow):\n",
    "        for j in range(ansCol):\n",
    "            for k in range(len(arr1[0])):\n",
    "                \n",
    "                ans[i][j] += arr1[i][k] * arr2[k][j]\n",
    "    \n",
    "    return ans"
   ]
  },
  {
   "cell_type": "code",
   "execution_count": 38,
   "metadata": {},
   "outputs": [
    {
     "data": {
      "text/plain": [
       "[[22, 22, 11], [36, 28, 18], [29, 20, 14]]"
      ]
     },
     "execution_count": 38,
     "metadata": {},
     "output_type": "execute_result"
    }
   ],
   "source": [
    "arr1 = [[1, 4], [3, 2], [4, 1]]\n",
    "arr2 = [[3, 3], [3, 3]]\n",
    "\n",
    "arr1 = [[2, 3, 2], [4, 2, 4], [3, 1, 4]]\n",
    "arr2 = [[5, 4, 3], [2, 4, 1], [3, 1, 1]]\n",
    "\n",
    "solution(arr1, arr2)"
   ]
  },
  {
   "cell_type": "code",
   "execution_count": 36,
   "metadata": {},
   "outputs": [
    {
     "data": {
      "text/plain": [
       "[[0, 0], [0, 0], [0, 0]]"
      ]
     },
     "execution_count": 36,
     "metadata": {},
     "output_type": "execute_result"
    }
   ],
   "source": [
    "ansRow = len(arr1)\n",
    "ansCol = len(arr2[0])\n",
    "\n",
    "ans = [[0 for _ in range(ansCol)] for _ in range(ansRow)]\n",
    "ans"
   ]
  },
  {
   "cell_type": "code",
   "execution_count": 37,
   "metadata": {},
   "outputs": [
    {
     "data": {
      "text/plain": [
       "[[15, 15], [15, 15], [15, 15]]"
      ]
     },
     "execution_count": 37,
     "metadata": {},
     "output_type": "execute_result"
    }
   ],
   "source": [
    "[ [sum(i*j for i, j in zip(arr1_row, arr2_col)) for arr2_col in zip(*arr2)] for arr1_row in arr1 ]"
   ]
  },
  {
   "cell_type": "code",
   "execution_count": 6,
   "metadata": {},
   "outputs": [
    {
     "data": {
      "text/plain": [
       "[[22, 22, 11], [36, 28, 18], [29, 20, 14]]"
      ]
     },
     "execution_count": 6,
     "metadata": {},
     "output_type": "execute_result"
    }
   ],
   "source": [
    "import numpy as np\n",
    "\n",
    "#(np.matrix(arr1) * np.matrix(arr2)).tolist()\n",
    "(np.matrix(arr1) * np.matrix(arr2)).tolist()"
   ]
  },
  {
   "cell_type": "code",
   "execution_count": null,
   "metadata": {},
   "outputs": [],
   "source": []
  }
 ],
 "metadata": {
  "kernelspec": {
   "display_name": "Python 3",
   "language": "python",
   "name": "python3"
  },
  "language_info": {
   "codemirror_mode": {
    "name": "ipython",
    "version": 3
   },
   "file_extension": ".py",
   "mimetype": "text/x-python",
   "name": "python",
   "nbconvert_exporter": "python",
   "pygments_lexer": "ipython3",
   "version": "3.7.3"
  }
 },
 "nbformat": 4,
 "nbformat_minor": 2
}
