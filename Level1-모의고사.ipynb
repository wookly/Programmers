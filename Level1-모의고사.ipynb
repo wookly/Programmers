{
 "cells": [
  {
   "cell_type": "markdown",
   "metadata": {},
   "source": [
    "모의고사\n",
    "=========\n",
    "\n",
    "#### 수포자는 수학을 포기한 사람의 준말입니다. 수포자 삼인방은 모의고사에 수학 문제를 전부 찍으려 합니다. 수포자는 1번 문제부터 마지막 문제까지 다음과 같이 찍습니다.\n",
    "#### 1번 수포자가 찍는 방식: 1, 2, 3, 4, 5, 1, 2, 3, 4, 5, ...\n",
    "#### 2번 수포자가 찍는 방식: 2, 1, 2, 3, 2, 4, 2, 5, 2, 1, 2, 3, 2, 4, 2, 5, ...\n",
    "#### 3번 수포자가 찍는 방식: 3, 3, 1, 1, 2, 2, 4, 4, 5, 5, 3, 3, 1, 1, 2, 2, 4, 4, 5, 5, ...\n",
    "#### 1번 문제부터 마지막 문제까지의 정답이 순서대로 들은 배열 answers가 주어졌을 때, 가장 많은 문제를 맞힌 사람이 누구인지 배열에 담아 return 하도록 solution 함수를 작성해주세요.\n",
    "\n",
    "> 제한 조건\n",
    "* 시험은 최대 10,000 문제로 구성되어있습니다.\n",
    "* 문제의 정답은 1, 2, 3, 4, 5중 하나입니다.\n",
    "* 가장 높은 점수를 받은 사람이 여럿일 경우, return하는 값을 오름차순 정렬해주세요.\n",
    "\n",
    "> 입출력 예\n",
    "\n",
    "| answers | return |\n",
    "|---|---:|\n",
    "| [1,2,3,4,5] | [1] |\n",
    "| [1,3,2,4,2] | [1,2,3] |\n",
    "\n",
    "> 입출력 예 설명\n",
    "\n",
    "> 입출력 예 #1\n",
    "* 수포자 1은 모든 문제를 맞혔습니다.\n",
    "* 수포자 2는 모든 문제를 틀렸습니다.\n",
    "* 수포자 3은 모든 문제를 틀렸습니다.\n",
    "* 따라서 가장 문제를 많이 맞힌 사람은 수포자 1입니다.\n",
    "\n",
    "> 입출력 예 #2\n",
    "* 모든 사람이 2문제씩을 맞췄습니다."
   ]
  },
  {
   "cell_type": "code",
   "execution_count": 33,
   "metadata": {},
   "outputs": [],
   "source": [
    "def solution(answers):\n",
    "    answer = []\n",
    "    \n",
    "    p1 = [1,2,3,4,5]\n",
    "    p2 = [2,1,2,3,2,4,2,5]\n",
    "    p3 = [3,3,1,1,2,2,4,4,5,5]\n",
    "    count = [0] * 3\n",
    "    \n",
    "    while len(p1) <= len(answers):\n",
    "        p1 *= 2\n",
    "    while len(p2) <= len(answers):\n",
    "        p2 *= 2\n",
    "    while len(p3) <= len(answers):\n",
    "        p3 *= 2\n",
    "        \n",
    "    for i in range(len(answers)):\n",
    "        if answers[i] == p1[i]: count[0] += 1\n",
    "        if answers[i] == p2[i]: count[1] += 1\n",
    "        if answers[i] == p3[i]: count[2] += 1\n",
    "            \n",
    "    for i in range(len(count)):\n",
    "        if count[i] == max(count):\n",
    "            answer.append(i+1)\n",
    "    \n",
    "    return answer"
   ]
  },
  {
   "cell_type": "code",
   "execution_count": 34,
   "metadata": {},
   "outputs": [
    {
     "data": {
      "text/plain": [
       "[1, 2, 3]"
      ]
     },
     "execution_count": 34,
     "metadata": {},
     "output_type": "execute_result"
    }
   ],
   "source": [
    "#answers = [1,2,3,4,5]\n",
    "answers = [1,3,2,4,2]\n",
    "solution(answers)"
   ]
  },
  {
   "cell_type": "code",
   "execution_count": 35,
   "metadata": {},
   "outputs": [],
   "source": [
    "def solution(answers):\n",
    "    answer = []\n",
    "    \n",
    "    p1 = [1,2,3,4,5]\n",
    "    p2 = [2,1,2,3,2,4,2,5]\n",
    "    p3 = [3,3,1,1,2,2,4,4,5,5]\n",
    "    count = [0,0,0]\n",
    "    \n",
    "    for i, v in enumerate(answers):\n",
    "        if v == p1[i%len(p1)]: count[0] += 1\n",
    "        if v == p2[i%len(p2)]: count[1] += 1\n",
    "        if v == p3[i%len(p3)]: count[2] += 1\n",
    "            \n",
    "    for i in range(len(count)):\n",
    "        if count[i] == max(count): answer.append(i+1)\n",
    "    \n",
    "    return answer"
   ]
  },
  {
   "cell_type": "code",
   "execution_count": 36,
   "metadata": {},
   "outputs": [
    {
     "data": {
      "text/plain": [
       "[1, 2, 3]"
      ]
     },
     "execution_count": 36,
     "metadata": {},
     "output_type": "execute_result"
    }
   ],
   "source": [
    "answers = [1,3,2,4,2]\n",
    "solution(answers)"
   ]
  },
  {
   "cell_type": "code",
   "execution_count": null,
   "metadata": {},
   "outputs": [],
   "source": []
  }
 ],
 "metadata": {
  "kernelspec": {
   "display_name": "Python 3",
   "language": "python",
   "name": "python3"
  },
  "language_info": {
   "codemirror_mode": {
    "name": "ipython",
    "version": 3
   },
   "file_extension": ".py",
   "mimetype": "text/x-python",
   "name": "python",
   "nbconvert_exporter": "python",
   "pygments_lexer": "ipython3",
   "version": "3.7.1"
  }
 },
 "nbformat": 4,
 "nbformat_minor": 2
}
